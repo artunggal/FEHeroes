{
 "cells": [
  {
   "cell_type": "code",
   "execution_count": 105,
   "metadata": {},
   "outputs": [],
   "source": [
    "import urllib.request\n",
    "from urllib.request import Request, urlopen\n",
    "from bs4 import BeautifulSoup\n",
    "from selenium import webdriver\n",
    "import csv\n",
    "import pandas as pd\n",
    "import numpy as np\n",
    "import seaborn as sns\n",
    "from scipy import stats\n",
    "%matplotlib inline\n",
    "import matplotlib.pyplot as plt\n",
    "from matplotlib.colors import ListedColormap\n",
    "from ipywidgets import widgets, interactive"
   ]
  },
  {
   "cell_type": "code",
   "execution_count": 106,
   "metadata": {},
   "outputs": [],
   "source": [
    "import plotly as py\n",
    "import plotly.graph_objs as go\n",
    "from plotly.offline import iplot, init_notebook_mode"
   ]
  },
  {
   "cell_type": "markdown",
   "metadata": {},
   "source": [
    "# Fire Emblem: Heroes Character Analysis"
   ]
  },
  {
   "cell_type": "markdown",
   "metadata": {},
   "source": [
    "## Introduction"
   ]
  },
  {
   "cell_type": "markdown",
   "metadata": {},
   "source": [
    "In this project, we will be taking a look at character data from the popular mobile game *Fire Emblem: Heroes* available on iPhone and Android. Fire Emblem, a strategy RPG franchise developed by Intelligent System, added this mobile game to its list of entries following the popularity of recent titles *Fire Emblem: Awakening* and *Fire Emblem: Fates* for the 3DS. In this entry, you are in the position of a tactician, deploying up to four characters from the Fire Emblem Universe to do battle against the opposing enemy team. The game utilizes a rock-paper-scissors battle mechanic, with some weapons being superior to others. \n",
    "\n",
    "Like many popular mobile games, *Fire Emblem: Heroes* is a free-to-play Gacha game, where characters are drawn from a random pool, each with varying rarity and power. \n"
   ]
  },
  {
   "cell_type": "markdown",
   "metadata": {},
   "source": [
    "## Web-Scraping (Using Selenium)"
   ]
  },
  {
   "cell_type": "markdown",
   "metadata": {},
   "source": [
    "We begin this project by obtaining the character data, using data hosted on gamepedia.com (I do not own the data). We will also be utilizing a Python package called Selenium to assist us with web-scraping duties. We will use the package to help us obtain information regarding how the characters are rated according to GamePress. We will use this data later on to build a prediction model.\n",
    "\n",
    "To proceed, you will need to download a chromedriver. Google is a good place to start if you don't know how to do so."
   ]
  },
  {
   "cell_type": "markdown",
   "metadata": {},
   "source": [
    "### General Character Information\n",
    "\n",
    "We will start off by getting general character information, which includes their name, their stats, what type of weapon they use, what their character type, and their tier according to the GamePress Offensive Tier List. "
   ]
  },
  {
   "cell_type": "code",
   "execution_count": 107,
   "metadata": {},
   "outputs": [],
   "source": [
    "browser = webdriver.Chrome(\"./chromedriver\")\n",
    "\n",
    "gg = (\"https://gamepress.gg/feheroes/heroes\")\n",
    "browser.get(gg)\n",
    "respData = browser.page_source\n",
    "browser.close()\n",
    "nsoup = BeautifulSoup(respData, 'html.parser')\n",
    "n_table = nsoup.find(\"table\", id = \"hero-table-parent\")"
   ]
  },
  {
   "cell_type": "code",
   "execution_count": 108,
   "metadata": {},
   "outputs": [],
   "source": [
    "gpress = []\n",
    "gpedia = []\n",
    "tier = []\n",
    "hp = []\n",
    "attack = []\n",
    "speed = []\n",
    "defense = []\n",
    "res = []\n",
    "total = []\n",
    "color = []\n",
    "weap = []\n",
    "mov = []\n",
    "rar = []\n",
    "urls = []\n",
    "\n",
    "for group in n_table.findAll(\"tr\")[1::3]:\n",
    "    tier.append(group.findAll(\"td\")[13].find(text = True))\n",
    "    gpress.append(group.findAll(\"td\")[0].findAll(text=True)[-1])\n",
    "    hp.append(group.findAll(\"td\")[2].findAll(text = True)[0])\n",
    "    attack.append(group.findAll(\"td\")[3].findAll(text = True)[0])\n",
    "    speed.append(group.findAll(\"td\")[4].findAll(text = True)[0])\n",
    "    defense.append(group.findAll(\"td\")[5].findAll(text = True)[0])\n",
    "    res.append(group.findAll(\"td\")[6].findAll(text = True)[0])\n",
    "    total.append(group.findAll(\"td\")[12].findAll(text = True)[0])\n",
    "    color.append(group.attrs.get(\"class\")[1])\n",
    "    weap.append(group.attrs.get(\"class\")[2])\n",
    "    mov.append(group.attrs.get(\"class\")[3])\n",
    "    rar.append(group.attrs.get(\"class\")[4])\n",
    "    \n",
    "    link = group.findAll(\"td\")[0].find(\"a\")[\"href\"]\n",
    "    url = \"https://gamepress.gg\" + link\n",
    "    urls.append(url)\n",
    "\n",
    "dfn = pd.DataFrame(gpress, columns = [\"Name\"])\n",
    "dfn[\"Tier\"] = tier\n",
    "dfn[\"Color\"] = color\n",
    "dfn[\"Weapon\"] = weap\n",
    "dfn[\"MoveType\"] = mov\n",
    "dfn[\"Rarities\"] = rar\n",
    "dfn[\"HP\"] = hp\n",
    "dfn[\"Atk\"] = attack\n",
    "dfn[\"Spd\"] = speed\n",
    "dfn[\"Def\"] = defense\n",
    "dfn[\"Res\"] = res\n",
    "dfn[\"Total\"] = total"
   ]
  },
  {
   "cell_type": "code",
   "execution_count": 109,
   "metadata": {},
   "outputs": [
    {
     "data": {
      "text/html": [
       "<div>\n",
       "<style scoped>\n",
       "    .dataframe tbody tr th:only-of-type {\n",
       "        vertical-align: middle;\n",
       "    }\n",
       "\n",
       "    .dataframe tbody tr th {\n",
       "        vertical-align: top;\n",
       "    }\n",
       "\n",
       "    .dataframe thead th {\n",
       "        text-align: right;\n",
       "    }\n",
       "</style>\n",
       "<table border=\"1\" class=\"dataframe\">\n",
       "  <thead>\n",
       "    <tr style=\"text-align: right;\">\n",
       "      <th></th>\n",
       "      <th>Name</th>\n",
       "      <th>Tier</th>\n",
       "      <th>Color</th>\n",
       "      <th>Weapon</th>\n",
       "      <th>MoveType</th>\n",
       "      <th>Rarities</th>\n",
       "      <th>HP</th>\n",
       "      <th>Atk</th>\n",
       "      <th>Spd</th>\n",
       "      <th>Def</th>\n",
       "      <th>Res</th>\n",
       "      <th>Total</th>\n",
       "    </tr>\n",
       "  </thead>\n",
       "  <tbody>\n",
       "    <tr>\n",
       "      <th>0</th>\n",
       "      <td>Abel</td>\n",
       "      <td>Tier 4</td>\n",
       "      <td>Blue</td>\n",
       "      <td>Lance</td>\n",
       "      <td>Cavalry</td>\n",
       "      <td>stars-3-4</td>\n",
       "      <td>39</td>\n",
       "      <td>33</td>\n",
       "      <td>32</td>\n",
       "      <td>25</td>\n",
       "      <td>25</td>\n",
       "      <td>154</td>\n",
       "    </tr>\n",
       "    <tr>\n",
       "      <th>1</th>\n",
       "      <td>Adrift Camilla</td>\n",
       "      <td>Tier 3</td>\n",
       "      <td>Red</td>\n",
       "      <td>Tome</td>\n",
       "      <td>Flying</td>\n",
       "      <td>stars-5-Star</td>\n",
       "      <td>36</td>\n",
       "      <td>37</td>\n",
       "      <td>30</td>\n",
       "      <td>17</td>\n",
       "      <td>30</td>\n",
       "      <td>150</td>\n",
       "    </tr>\n",
       "    <tr>\n",
       "      <th>2</th>\n",
       "      <td>Adrift Corrin (F)</td>\n",
       "      <td>Tier 2</td>\n",
       "      <td>Green</td>\n",
       "      <td>Dragon</td>\n",
       "      <td>Infantry</td>\n",
       "      <td>stars-5-Star</td>\n",
       "      <td>41</td>\n",
       "      <td>31</td>\n",
       "      <td>37</td>\n",
       "      <td>32</td>\n",
       "      <td>27</td>\n",
       "      <td>168</td>\n",
       "    </tr>\n",
       "    <tr>\n",
       "      <th>3</th>\n",
       "      <td>Adrift Corrin (M)</td>\n",
       "      <td>Tier 2</td>\n",
       "      <td>Blue</td>\n",
       "      <td>Dragon</td>\n",
       "      <td>Infantry</td>\n",
       "      <td>stars-5-Star</td>\n",
       "      <td>42</td>\n",
       "      <td>35</td>\n",
       "      <td>35</td>\n",
       "      <td>31</td>\n",
       "      <td>24</td>\n",
       "      <td>167</td>\n",
       "    </tr>\n",
       "    <tr>\n",
       "      <th>4</th>\n",
       "      <td>Alfonse</td>\n",
       "      <td>Tier 4</td>\n",
       "      <td>Red</td>\n",
       "      <td>Sword</td>\n",
       "      <td>Infantry</td>\n",
       "      <td>stars-4_Star_Story</td>\n",
       "      <td>43</td>\n",
       "      <td>35</td>\n",
       "      <td>25</td>\n",
       "      <td>32</td>\n",
       "      <td>22</td>\n",
       "      <td>157</td>\n",
       "    </tr>\n",
       "  </tbody>\n",
       "</table>\n",
       "</div>"
      ],
      "text/plain": [
       "                Name    Tier  Color  Weapon  MoveType            Rarities  HP  \\\n",
       "0               Abel  Tier 4   Blue   Lance   Cavalry           stars-3-4  39   \n",
       "1     Adrift Camilla  Tier 3    Red    Tome    Flying        stars-5-Star  36   \n",
       "2  Adrift Corrin (F)  Tier 2  Green  Dragon  Infantry        stars-5-Star  41   \n",
       "3  Adrift Corrin (M)  Tier 2   Blue  Dragon  Infantry        stars-5-Star  42   \n",
       "4            Alfonse  Tier 4    Red   Sword  Infantry  stars-4_Star_Story  43   \n",
       "\n",
       "  Atk Spd Def Res Total  \n",
       "0  33  32  25  25   154  \n",
       "1  37  30  17  30   150  \n",
       "2  31  37  32  27   168  \n",
       "3  35  35  31  24   167  \n",
       "4  35  25  32  22   157  "
      ]
     },
     "execution_count": 109,
     "metadata": {},
     "output_type": "execute_result"
    }
   ],
   "source": [
    "dfn.head()"
   ]
  },
  {
   "cell_type": "code",
   "execution_count": 110,
   "metadata": {},
   "outputs": [],
   "source": [
    "#with pd.option_context('display.max_rows', None, 'display.max_columns', 100):\n",
    "#    display(dfn)"
   ]
  },
  {
   "cell_type": "markdown",
   "metadata": {},
   "source": [
    "### Special Character Details\n",
    "\n",
    "What we will do next is to parse through each character's stat page on GamePress to grab information that we believe is useful to help predict a character's tier. \n",
    "\n",
    "NOTE: Running the cell below will take quite a lot of time (when I last ran it, it took >30 minutes. So have something to do while you wait - like playing Fire Emblem: Heroes."
   ]
  },
  {
   "cell_type": "code",
   "execution_count": 111,
   "metadata": {},
   "outputs": [],
   "source": [
    "w_upgrades = []\n",
    "personal = []\n",
    "is_lm = []\n",
    "origin = []\n",
    "\n",
    "browse = webdriver.Chrome(\"./chromedriver\")\n",
    "\n",
    "for needed in urls:\n",
    "\n",
    "    browse.get(needed)\n",
    "    chardata = browse.page_source\n",
    "    soupy = BeautifulSoup(chardata, 'html.parser')\n",
    "    tab = soupy.find(\"table\", id = \"hero-details-table\")\n",
    "    weapinfo = soupy.find(\"div\", id = \"weapon-skills\")\n",
    "    \n",
    "    #retrieves whether the character has weapon-refines\n",
    "    if weapinfo.findAll(\"div\", {\"id\": \"weapon-upgrades-section\"})[0].find(\n",
    "        \"div\", {\"class\": \"view-content\"}) is not None:\n",
    "        w_upgrades.append(True)\n",
    "    else:\n",
    "        w_upgrades.append(False)\n",
    "\n",
    "    # retrieves whether the character has a personal, non-inheritable weapon\n",
    "    i = 0\n",
    "    per = False\n",
    "    for item in weapinfo.findAll(\"div\", {\"class\": \"views-element-container\"\n",
    "        })[0].findAll(\"tr\"):\n",
    "        if i == 0:\n",
    "            i += 1\n",
    "            continue\n",
    "        if not item.findAll(\"div\"):\n",
    "            continue\n",
    "        if \"Non-Inheritable skill\" in item.findAll(\"div\")[-1].get_text():\n",
    "            per = True\n",
    "            break\n",
    "    if per is False:\n",
    "        personal.append(False)\n",
    "    else:\n",
    "        personal.append(True)\n",
    "\n",
    "    # get origin information\n",
    "    try:\n",
    "        orig = soupy.find(\"div\", {\"class\": \"field field--name-field-origin field--type-entity-reference field--label-hidden field__items\"})\n",
    "        origin.append(orig.findAll(text=True)[1])\n",
    "    except AttributeError:\n",
    "        origin.append(\"None\")\n",
    "\n",
    "    #gets information about whether character is legendary/mythic\n",
    "    att = soupy.find(\"div\", id = \"hero-atts\")\n",
    "    is_lm.append(att.find(\"a\", {\"class\": \n",
    "        \"tipso-legendary tipso_style\"}) is not None)\n",
    "\n",
    "    \n",
    "    \n",
    "    #group.findAll(\"td\")[12] is total\n",
    "browse.quit()"
   ]
  },
  {
   "cell_type": "code",
   "execution_count": 112,
   "metadata": {},
   "outputs": [],
   "source": [
    "dfn[\"Refines\"] = w_upgrades\n",
    "dfn[\"Personal Weapon\"] = personal\n",
    "dfn[\"Legendary/Mythic\"] = is_lm\n",
    "dfn[\"Origin\"] = origin"
   ]
  },
  {
   "cell_type": "code",
   "execution_count": 113,
   "metadata": {},
   "outputs": [
    {
     "data": {
      "text/html": [
       "<div>\n",
       "<style scoped>\n",
       "    .dataframe tbody tr th:only-of-type {\n",
       "        vertical-align: middle;\n",
       "    }\n",
       "\n",
       "    .dataframe tbody tr th {\n",
       "        vertical-align: top;\n",
       "    }\n",
       "\n",
       "    .dataframe thead th {\n",
       "        text-align: right;\n",
       "    }\n",
       "</style>\n",
       "<table border=\"1\" class=\"dataframe\">\n",
       "  <thead>\n",
       "    <tr style=\"text-align: right;\">\n",
       "      <th></th>\n",
       "      <th>Name</th>\n",
       "      <th>Tier</th>\n",
       "      <th>Color</th>\n",
       "      <th>Weapon</th>\n",
       "      <th>MoveType</th>\n",
       "      <th>Rarities</th>\n",
       "      <th>HP</th>\n",
       "      <th>Atk</th>\n",
       "      <th>Spd</th>\n",
       "      <th>Def</th>\n",
       "      <th>Res</th>\n",
       "      <th>Total</th>\n",
       "      <th>Refines</th>\n",
       "      <th>Personal Weapon</th>\n",
       "      <th>Legendary/Mythic</th>\n",
       "      <th>Origin</th>\n",
       "    </tr>\n",
       "  </thead>\n",
       "  <tbody>\n",
       "    <tr>\n",
       "      <th>239</th>\n",
       "      <td>Lucina</td>\n",
       "      <td>Tier 2</td>\n",
       "      <td>Red</td>\n",
       "      <td>Sword</td>\n",
       "      <td>Infantry</td>\n",
       "      <td>stars-5_Legacy</td>\n",
       "      <td>43</td>\n",
       "      <td>34</td>\n",
       "      <td>36</td>\n",
       "      <td>25</td>\n",
       "      <td>19</td>\n",
       "      <td>157</td>\n",
       "      <td>True</td>\n",
       "      <td>True</td>\n",
       "      <td>False</td>\n",
       "      <td>Fire Emblem: Awakening</td>\n",
       "    </tr>\n",
       "  </tbody>\n",
       "</table>\n",
       "</div>"
      ],
      "text/plain": [
       "       Name    Tier Color Weapon  MoveType        Rarities  HP Atk Spd Def  \\\n",
       "239  Lucina  Tier 2   Red  Sword  Infantry  stars-5_Legacy  43  34  36  25   \n",
       "\n",
       "    Res Total  Refines  Personal Weapon  Legendary/Mythic  \\\n",
       "239  19   157     True             True             False   \n",
       "\n",
       "                     Origin  \n",
       "239  Fire Emblem: Awakening  "
      ]
     },
     "execution_count": 113,
     "metadata": {},
     "output_type": "execute_result"
    }
   ],
   "source": [
    "dfn[dfn[\"Name\"] == \"Lucina\"]"
   ]
  },
  {
   "cell_type": "markdown",
   "metadata": {},
   "source": [
    "Another such important trait is whether a character is a particular unit class called a \"refresher\", which allows said character to \"refresh\" a character, granting them another move on your turn. This is quite the offensive boon, as giving your strongest character the opportunity to kill not one but TWO characters in your turn can turn the tide of battle in an instant.\n",
    "\n",
    "In the game, there are two basic refreshing skills: dance, and sing. Thus, we will scrape for all characters who are capable of using either skill."
   ]
  },
  {
   "cell_type": "code",
   "execution_count": 114,
   "metadata": {},
   "outputs": [],
   "source": [
    "# to get list of refresher characters\n",
    "\n",
    "refresh = []\n",
    "dsurls = [\"https://gamepress.gg/feheroes/command-skills/dance\",\n",
    "         \"https://gamepress.gg/feheroes/command-skills/sing\"]\n",
    "\n",
    "brow = webdriver.Chrome(\"./chromedriver\")\n",
    "for lin in dsurls:\n",
    "    brow.get(lin)\n",
    "    ddata = brow.page_source\n",
    "    dsoup = BeautifulSoup(ddata, \"html.parser\")\n",
    "    since = dsoup.find(\"div\", id = \"block-gamepressbase-content\")\n",
    "    char = since.find(\"div\", {\"class\": \"views-element-container\"}).findAll(\"a\")\n",
    "    for it in char[1::2]:\n",
    "        refresh.append(it.get_text())\n",
    "brow.quit()"
   ]
  },
  {
   "cell_type": "code",
   "execution_count": 115,
   "metadata": {},
   "outputs": [],
   "source": [
    "ref = dfn[\"Name\"].apply(lambda x: x in refresh)\n",
    "dfn2 = dfn.copy()\n",
    "dfn2[\"Refresher\"] = ref"
   ]
  },
  {
   "cell_type": "code",
   "execution_count": 116,
   "metadata": {},
   "outputs": [],
   "source": [
    "rar = []\n",
    "ob = []\n",
    "for row in dfn2[\"Rarities\"]:\n",
    "    st = []\n",
    "    a = row.split(\"_\")[0]\n",
    "    if \"Story\" in row:\n",
    "        ob.append(\"Story\")\n",
    "    elif \"Grand_Hero_Battle\" in row:\n",
    "        ob.append(\"GHB\")\n",
    "    elif \"Tempest_Trials\" in row:\n",
    "        ob.append(\"TT\")\n",
    "    elif \"Enemy_Only\" in row:\n",
    "        ob.append(\"Enemy-Only\")\n",
    "    elif \"Legacy\" in row:\n",
    "        ob.append(\"Legacy\")\n",
    "    else:\n",
    "        ob.append(\"NA\")\n",
    "    for i in a.split(\"-\"):\n",
    "        if \"3\" in i or \"4\" in i or \"5\" in i:\n",
    "            st.append(i)\n",
    "    rar.append(st)"
   ]
  },
  {
   "cell_type": "code",
   "execution_count": 117,
   "metadata": {},
   "outputs": [],
   "source": [
    "dfn2[\"Stars\"] = rar\n",
    "dfn2[\"Obtain\"] = ob"
   ]
  },
  {
   "cell_type": "code",
   "execution_count": 118,
   "metadata": {},
   "outputs": [],
   "source": [
    "#gets to see if the character has weapon-refines\n",
    "if weapinfo.findAll(\"div\", {\"id\": \"weapon-upgrades-section\"})[0].find(\n",
    "    \"div\", {\"class\": \"view-content\"}) is not None:\n",
    "    w_upgrades.append(True)\n",
    "else:\n",
    "    w_upgrades.append(False)\n",
    "    #gpedia.append(tab.findAll(\"tr\")[0].findAll(text = True)[2])\n",
    "\n",
    "# gets info about personal weapon\n",
    "i = 0\n",
    "per = False\n",
    "for item in weapinfo.findAll(\"div\", {\"class\": \"views-element-container\"\n",
    "    })[0].findAll(\"tr\"):\n",
    "    if i == 0:\n",
    "        i += 1\n",
    "        continue\n",
    "    if \"Non-Inheritable skill\" in item.findAll(\"div\")[-1].get_text():\n",
    "        per = True\n",
    "        break\n",
    "if per is False:\n",
    "    personal.append(False)\n",
    "else:\n",
    "    personal.append(True)"
   ]
  },
  {
   "cell_type": "markdown",
   "metadata": {},
   "source": [
    "If we look carefully at the data, we will notice that some of the characters are missing origin information. Until Gamepress.gg fixes this, we will resort to doing this manually."
   ]
  },
  {
   "cell_type": "code",
   "execution_count": 119,
   "metadata": {},
   "outputs": [
    {
     "data": {
      "text/html": [
       "<div>\n",
       "<style scoped>\n",
       "    .dataframe tbody tr th:only-of-type {\n",
       "        vertical-align: middle;\n",
       "    }\n",
       "\n",
       "    .dataframe tbody tr th {\n",
       "        vertical-align: top;\n",
       "    }\n",
       "\n",
       "    .dataframe thead th {\n",
       "        text-align: right;\n",
       "    }\n",
       "</style>\n",
       "<table border=\"1\" class=\"dataframe\">\n",
       "  <thead>\n",
       "    <tr style=\"text-align: right;\">\n",
       "      <th></th>\n",
       "      <th>Name</th>\n",
       "      <th>Tier</th>\n",
       "      <th>Color</th>\n",
       "      <th>Weapon</th>\n",
       "      <th>MoveType</th>\n",
       "      <th>Rarities</th>\n",
       "      <th>HP</th>\n",
       "      <th>Atk</th>\n",
       "      <th>Spd</th>\n",
       "      <th>Def</th>\n",
       "      <th>Res</th>\n",
       "      <th>Total</th>\n",
       "      <th>Refines</th>\n",
       "      <th>Personal Weapon</th>\n",
       "      <th>Legendary/Mythic</th>\n",
       "      <th>Origin</th>\n",
       "      <th>Refresher</th>\n",
       "      <th>Stars</th>\n",
       "      <th>Obtain</th>\n",
       "    </tr>\n",
       "  </thead>\n",
       "  <tbody>\n",
       "    <tr>\n",
       "      <th>35</th>\n",
       "      <td>Brave Lucina</td>\n",
       "      <td>Tier 1</td>\n",
       "      <td>Blue</td>\n",
       "      <td>Lance</td>\n",
       "      <td>Infantry</td>\n",
       "      <td>stars-5_Legacy</td>\n",
       "      <td>41</td>\n",
       "      <td>34</td>\n",
       "      <td>36</td>\n",
       "      <td>27</td>\n",
       "      <td>19</td>\n",
       "      <td>157</td>\n",
       "      <td>True</td>\n",
       "      <td>True</td>\n",
       "      <td>False</td>\n",
       "      <td>None</td>\n",
       "      <td>False</td>\n",
       "      <td>[5]</td>\n",
       "      <td>Legacy</td>\n",
       "    </tr>\n",
       "    <tr>\n",
       "      <th>136</th>\n",
       "      <td>Halloween Dorcas</td>\n",
       "      <td>Tier 2</td>\n",
       "      <td>Green</td>\n",
       "      <td>Axe</td>\n",
       "      <td>Armored</td>\n",
       "      <td>stars-4-5_Event:_Tempest_Trials</td>\n",
       "      <td>49</td>\n",
       "      <td>41</td>\n",
       "      <td>25</td>\n",
       "      <td>37</td>\n",
       "      <td>21</td>\n",
       "      <td>173</td>\n",
       "      <td>True</td>\n",
       "      <td>False</td>\n",
       "      <td>False</td>\n",
       "      <td>None</td>\n",
       "      <td>False</td>\n",
       "      <td>[4, 5]</td>\n",
       "      <td>TT</td>\n",
       "    </tr>\n",
       "    <tr>\n",
       "      <th>147</th>\n",
       "      <td>Halloween Nowi</td>\n",
       "      <td>Tier 3</td>\n",
       "      <td>Red</td>\n",
       "      <td>Tome</td>\n",
       "      <td>Flying</td>\n",
       "      <td>stars-5-Star</td>\n",
       "      <td>34</td>\n",
       "      <td>34</td>\n",
       "      <td>32</td>\n",
       "      <td>20</td>\n",
       "      <td>27</td>\n",
       "      <td>147</td>\n",
       "      <td>False</td>\n",
       "      <td>True</td>\n",
       "      <td>False</td>\n",
       "      <td>None</td>\n",
       "      <td>False</td>\n",
       "      <td>[5]</td>\n",
       "      <td>NA</td>\n",
       "    </tr>\n",
       "    <tr>\n",
       "      <th>149</th>\n",
       "      <td>Halloween Sakura</td>\n",
       "      <td>Tier 4</td>\n",
       "      <td>Gray</td>\n",
       "      <td>Dagger</td>\n",
       "      <td>Infantry</td>\n",
       "      <td>stars-5-Star</td>\n",
       "      <td>33</td>\n",
       "      <td>32</td>\n",
       "      <td>34</td>\n",
       "      <td>14</td>\n",
       "      <td>34</td>\n",
       "      <td>147</td>\n",
       "      <td>False</td>\n",
       "      <td>False</td>\n",
       "      <td>False</td>\n",
       "      <td>None</td>\n",
       "      <td>False</td>\n",
       "      <td>[5]</td>\n",
       "      <td>NA</td>\n",
       "    </tr>\n",
       "    <tr>\n",
       "      <th>153</th>\n",
       "      <td>Hector (LA)</td>\n",
       "      <td>Tier 1</td>\n",
       "      <td>Green</td>\n",
       "      <td>Axe</td>\n",
       "      <td>Armored</td>\n",
       "      <td>stars-5-Star</td>\n",
       "      <td>50</td>\n",
       "      <td>38</td>\n",
       "      <td>21</td>\n",
       "      <td>40</td>\n",
       "      <td>24</td>\n",
       "      <td>173</td>\n",
       "      <td>False</td>\n",
       "      <td>True</td>\n",
       "      <td>False</td>\n",
       "      <td>None</td>\n",
       "      <td>False</td>\n",
       "      <td>[5]</td>\n",
       "      <td>NA</td>\n",
       "    </tr>\n",
       "    <tr>\n",
       "      <th>184</th>\n",
       "      <td>Kaden</td>\n",
       "      <td>Tier 2</td>\n",
       "      <td>Green</td>\n",
       "      <td>Beast</td>\n",
       "      <td>Cavalry</td>\n",
       "      <td>stars-5-Star</td>\n",
       "      <td>38</td>\n",
       "      <td>32</td>\n",
       "      <td>36</td>\n",
       "      <td>25</td>\n",
       "      <td>25</td>\n",
       "      <td>156</td>\n",
       "      <td>False</td>\n",
       "      <td>False</td>\n",
       "      <td>False</td>\n",
       "      <td>None</td>\n",
       "      <td>False</td>\n",
       "      <td>[5]</td>\n",
       "      <td>NA</td>\n",
       "    </tr>\n",
       "    <tr>\n",
       "      <th>192</th>\n",
       "      <td>Keaton</td>\n",
       "      <td>Tier 1</td>\n",
       "      <td>Red</td>\n",
       "      <td>Beast</td>\n",
       "      <td>Infantry</td>\n",
       "      <td>stars-5-Star</td>\n",
       "      <td>45</td>\n",
       "      <td>41</td>\n",
       "      <td>24</td>\n",
       "      <td>38</td>\n",
       "      <td>19</td>\n",
       "      <td>167</td>\n",
       "      <td>False</td>\n",
       "      <td>False</td>\n",
       "      <td>False</td>\n",
       "      <td>None</td>\n",
       "      <td>False</td>\n",
       "      <td>[5]</td>\n",
       "      <td>NA</td>\n",
       "    </tr>\n",
       "    <tr>\n",
       "      <th>244</th>\n",
       "      <td>Lute</td>\n",
       "      <td>Tier 2</td>\n",
       "      <td>Blue</td>\n",
       "      <td>Tome</td>\n",
       "      <td>Infantry</td>\n",
       "      <td>stars-5_Legacy</td>\n",
       "      <td>33</td>\n",
       "      <td>36</td>\n",
       "      <td>32</td>\n",
       "      <td>16</td>\n",
       "      <td>34</td>\n",
       "      <td>151</td>\n",
       "      <td>True</td>\n",
       "      <td>True</td>\n",
       "      <td>False</td>\n",
       "      <td>None</td>\n",
       "      <td>False</td>\n",
       "      <td>[5]</td>\n",
       "      <td>Legacy</td>\n",
       "    </tr>\n",
       "    <tr>\n",
       "      <th>246</th>\n",
       "      <td>Lyn (LA)</td>\n",
       "      <td>Tier 2</td>\n",
       "      <td>Blue</td>\n",
       "      <td>Tome</td>\n",
       "      <td>Armored</td>\n",
       "      <td>stars-5-Star</td>\n",
       "      <td>37</td>\n",
       "      <td>31</td>\n",
       "      <td>36</td>\n",
       "      <td>27</td>\n",
       "      <td>34</td>\n",
       "      <td>165</td>\n",
       "      <td>True</td>\n",
       "      <td>False</td>\n",
       "      <td>False</td>\n",
       "      <td>None</td>\n",
       "      <td>False</td>\n",
       "      <td>[5]</td>\n",
       "      <td>NA</td>\n",
       "    </tr>\n",
       "    <tr>\n",
       "      <th>280</th>\n",
       "      <td>New Year Azura</td>\n",
       "      <td>Tier 2</td>\n",
       "      <td>Green</td>\n",
       "      <td>Axe</td>\n",
       "      <td>Flying</td>\n",
       "      <td>stars-5-Star</td>\n",
       "      <td>37</td>\n",
       "      <td>30</td>\n",
       "      <td>35</td>\n",
       "      <td>22</td>\n",
       "      <td>26</td>\n",
       "      <td>150</td>\n",
       "      <td>True</td>\n",
       "      <td>False</td>\n",
       "      <td>False</td>\n",
       "      <td>None</td>\n",
       "      <td>True</td>\n",
       "      <td>[5]</td>\n",
       "      <td>NA</td>\n",
       "    </tr>\n",
       "    <tr>\n",
       "      <th>317</th>\n",
       "      <td>Performing Olivia</td>\n",
       "      <td>Tier 3</td>\n",
       "      <td>Gray</td>\n",
       "      <td>Dagger</td>\n",
       "      <td>Infantry</td>\n",
       "      <td>stars-5-Star</td>\n",
       "      <td>34</td>\n",
       "      <td>28</td>\n",
       "      <td>34</td>\n",
       "      <td>16</td>\n",
       "      <td>28</td>\n",
       "      <td>140</td>\n",
       "      <td>True</td>\n",
       "      <td>False</td>\n",
       "      <td>False</td>\n",
       "      <td>None</td>\n",
       "      <td>True</td>\n",
       "      <td>[5]</td>\n",
       "      <td>NA</td>\n",
       "    </tr>\n",
       "    <tr>\n",
       "      <th>448</th>\n",
       "      <td>Velouria</td>\n",
       "      <td>Tier 2</td>\n",
       "      <td>Gray</td>\n",
       "      <td>Beast</td>\n",
       "      <td>Infantry</td>\n",
       "      <td>stars-5-Star</td>\n",
       "      <td>40</td>\n",
       "      <td>35</td>\n",
       "      <td>37</td>\n",
       "      <td>33</td>\n",
       "      <td>23</td>\n",
       "      <td>168</td>\n",
       "      <td>False</td>\n",
       "      <td>False</td>\n",
       "      <td>False</td>\n",
       "      <td>None</td>\n",
       "      <td>False</td>\n",
       "      <td>[5]</td>\n",
       "      <td>NA</td>\n",
       "    </tr>\n",
       "  </tbody>\n",
       "</table>\n",
       "</div>"
      ],
      "text/plain": [
       "                  Name    Tier  Color  Weapon  MoveType  \\\n",
       "35        Brave Lucina  Tier 1   Blue   Lance  Infantry   \n",
       "136   Halloween Dorcas  Tier 2  Green     Axe   Armored   \n",
       "147     Halloween Nowi  Tier 3    Red    Tome    Flying   \n",
       "149   Halloween Sakura  Tier 4   Gray  Dagger  Infantry   \n",
       "153        Hector (LA)  Tier 1  Green     Axe   Armored   \n",
       "184              Kaden  Tier 2  Green   Beast   Cavalry   \n",
       "192             Keaton  Tier 1    Red   Beast  Infantry   \n",
       "244               Lute  Tier 2   Blue    Tome  Infantry   \n",
       "246           Lyn (LA)  Tier 2   Blue    Tome   Armored   \n",
       "280     New Year Azura  Tier 2  Green     Axe    Flying   \n",
       "317  Performing Olivia  Tier 3   Gray  Dagger  Infantry   \n",
       "448           Velouria  Tier 2   Gray   Beast  Infantry   \n",
       "\n",
       "                            Rarities  HP Atk Spd Def Res Total  Refines  \\\n",
       "35                    stars-5_Legacy  41  34  36  27  19   157     True   \n",
       "136  stars-4-5_Event:_Tempest_Trials  49  41  25  37  21   173     True   \n",
       "147                     stars-5-Star  34  34  32  20  27   147    False   \n",
       "149                     stars-5-Star  33  32  34  14  34   147    False   \n",
       "153                     stars-5-Star  50  38  21  40  24   173    False   \n",
       "184                     stars-5-Star  38  32  36  25  25   156    False   \n",
       "192                     stars-5-Star  45  41  24  38  19   167    False   \n",
       "244                   stars-5_Legacy  33  36  32  16  34   151     True   \n",
       "246                     stars-5-Star  37  31  36  27  34   165     True   \n",
       "280                     stars-5-Star  37  30  35  22  26   150     True   \n",
       "317                     stars-5-Star  34  28  34  16  28   140     True   \n",
       "448                     stars-5-Star  40  35  37  33  23   168    False   \n",
       "\n",
       "     Personal Weapon  Legendary/Mythic Origin  Refresher   Stars  Obtain  \n",
       "35              True             False   None      False     [5]  Legacy  \n",
       "136            False             False   None      False  [4, 5]      TT  \n",
       "147             True             False   None      False     [5]      NA  \n",
       "149            False             False   None      False     [5]      NA  \n",
       "153             True             False   None      False     [5]      NA  \n",
       "184            False             False   None      False     [5]      NA  \n",
       "192            False             False   None      False     [5]      NA  \n",
       "244             True             False   None      False     [5]  Legacy  \n",
       "246            False             False   None      False     [5]      NA  \n",
       "280            False             False   None       True     [5]      NA  \n",
       "317            False             False   None       True     [5]      NA  \n",
       "448            False             False   None      False     [5]      NA  "
      ]
     },
     "execution_count": 119,
     "metadata": {},
     "output_type": "execute_result"
    }
   ],
   "source": [
    "dfn2[dfn2[\"Origin\"] == \"None\"]"
   ]
  },
  {
   "cell_type": "code",
   "execution_count": 120,
   "metadata": {},
   "outputs": [],
   "source": [
    "#dfn2[dfn2[\"Name\"] == \"Brave Lucina\"].Origin = \"Fire Emblem: Awakening\"\n",
    "dfn2.loc[dfn2[\"Name\"] == \"Brave Lucina\", \"Origin\"] = \"Fire Emblem: Awakening\"\n",
    "dfn2.loc[dfn2[\"Name\"] == \"Halloween Dorcas\", \"Origin\"] = \"Fire Emblem: The Blazing Blade\"\n",
    "dfn2.loc[dfn2[\"Name\"] == \"Halloween Nowi\", \"Origin\"] = \"Fire Emblem: Awakening\"\n",
    "dfn2.loc[dfn2[\"Name\"] == \"Halloween Sakura\", \"Origin\"] = \"Fire Emblem Fates\"\n",
    "dfn2.loc[dfn2[\"Name\"] == \"Hector (LA)\", \"Origin\"] = \"Fire Emblem: The Blazing Blade\"\n",
    "dfn2.loc[dfn2[\"Name\"] == \"Kaden\", \"Origin\"] = \"Fire Emblem Fates\"\n",
    "dfn2.loc[dfn2[\"Name\"] == \"Keaton\", \"Origin\"] = \"Fire Emblem Fates\"\n",
    "dfn2.loc[dfn2[\"Name\"] == \"Lute\", \"Origin\"] = \"Fire Emblem: Sacred Stones\"\n",
    "dfn2.loc[dfn2[\"Name\"] == \"Lyn (LA)\", \"Origin\"] = \"Fire Emblem: The Blazing Blade\"\n",
    "dfn2.loc[dfn2[\"Name\"] == \"New Year Azura\", \"Origin\"]= \"Fire Emblem Fates\"\n",
    "dfn2.loc[dfn2[\"Name\"] == \"Performing Olivia\", \"Origin\"] = \"Fire Emblem: Awakening\"\n",
    "dfn2.loc[dfn2[\"Name\"] == \"Velouria\", \"Origin\"] = \"Fire Emblem Fates\""
   ]
  },
  {
   "cell_type": "code",
   "execution_count": 121,
   "metadata": {},
   "outputs": [],
   "source": [
    "heroes = dfn2\n",
    "heroes = heroes[heroes[\"Obtain\"] != \"Enemy-Only\"]"
   ]
  },
  {
   "cell_type": "code",
   "execution_count": 122,
   "metadata": {},
   "outputs": [],
   "source": [
    "heroes[[\"HP\", \"Atk\", \"Spd\", \"Def\", \"Res\"]] = heroes[[\"HP\", \"Atk\", \"Spd\", \"Def\", \"Res\"]].apply(pd.to_numeric)"
   ]
  },
  {
   "cell_type": "markdown",
   "metadata": {},
   "source": [
    "## Data Visualization"
   ]
  },
  {
   "cell_type": "markdown",
   "metadata": {},
   "source": [
    "In this section, we'll take a deeper look at the data that we just scraped to give ourselves a better idea of what we're working with. Some of the features that we'll be looking at are related to character statistics, weapon type, color, and game origin."
   ]
  },
  {
   "cell_type": "markdown",
   "metadata": {},
   "source": [
    "### Stat Distribution"
   ]
  },
  {
   "cell_type": "code",
   "execution_count": 123,
   "metadata": {},
   "outputs": [
    {
     "data": {
      "application/vnd.jupyter.widget-view+json": {
       "model_id": "613d4f1f03a1410888d13e724bd558fa",
       "version_major": 2,
       "version_minor": 0
      },
      "text/plain": [
       "interactive(children=(Dropdown(description='Category:', options=('Weapon', 'MoveType', 'Color'), value='Weapon…"
      ]
     },
     "metadata": {},
     "output_type": "display_data"
    }
   ],
   "source": [
    "# Make drop down for comparison of unit composition\n",
    "sns.set()\n",
    "\n",
    "cat_comp = widgets.Dropdown(\n",
    "    options=[\"Weapon\", \"MoveType\", \"Color\"],\n",
    "    value=\"Weapon\",\n",
    "    description=\"Category:\",\n",
    ")\n",
    "\n",
    "stat_comp = widgets.Dropdown(\n",
    "    options=[\"HP\", \"Atk\", \"Spd\", \"Def\", \"Res\"],\n",
    "    value='HP',\n",
    "    description='Stat:',\n",
    ")\n",
    "\n",
    "def plotit(cat, stat):\n",
    "    plt.figure(figsize=(8, 5))\n",
    "    sns.set(style=\"ticks\")\n",
    "    if cat == \"Color\":\n",
    "        sns.violinplot(x= cat, y= stat, data=heroes, palette=[\"#3498db\", \"#fe2c54\", \"#12e193\", \"#bf77f6\"])\n",
    "    elif cat == \"Weapon\":\n",
    "        sns.violinplot(x= cat, y= stat, data=heroes, palette=\"Set3\")\n",
    "    else:\n",
    "        sns.violinplot(x= cat, y= stat, data=heroes, palette=\"hls\")\n",
    "\n",
    "interactive(plotit, cat = cat_comp, stat = stat_comp)"
   ]
  },
  {
   "cell_type": "markdown",
   "metadata": {},
   "source": [
    "### Character Distribution"
   ]
  },
  {
   "cell_type": "code",
   "execution_count": 124,
   "metadata": {},
   "outputs": [
    {
     "data": {
      "image/png": "[encoded data removed]",
      "text/plain": [
       "<Figure size 432x288 with 1 Axes>"
      ]
     },
     "metadata": {},
     "output_type": "display_data"
    }
   ],
   "source": [
    "# See the number of characters for each color\n",
    "sns.set()\n",
    "\n",
    "colors = heroes.groupby(by=\"Color\").agg(np.size).iloc[:, 6]\n",
    "colors = colors.rename(\"Color\")\n",
    "colors.plot.pie(labels=['Blue', 'Colorless', 'Green', 'Red'], colors=['b', 'gray', 'g', 'r'], autopct='%.2f')\n",
    "plt.title(\"Unit Distribution by Color\")\n",
    "plt.show()"
   ]
  },
  {
   "cell_type": "code",
   "execution_count": 125,
   "metadata": {},
   "outputs": [
    {
     "data": {
      "image/png": "[encoded data removed]",
      "text/plain": [
       "<Figure size 504x360 with 1 Axes>"
      ]
     },
     "metadata": {},
     "output_type": "display_data"
    }
   ],
   "source": [
    "# See the number of characters for each weapon type\n",
    "sns.set()\n",
    "plt.figure(figsize=(7, 5))\n",
    "plt.bar([0, 1, 2, 3, 4, 5, 6, 7, 8], heroes.groupby(by = \"Weapon\").agg(np.size).iloc[:, 0], align = \"center\")\n",
    "plt.xticks([0, 1, 2, 3, 4, 5, 6, 7, 8], heroes.groupby(by = \"Weapon\").agg(np.size).index)\n",
    "plt.title(\"Unit Count by Weapon Type\")\n",
    "plt.show()"
   ]
  },
  {
   "cell_type": "markdown",
   "metadata": {},
   "source": [
    "We see that characters that use tomes are the most abundant in the game (barely beating out those who use swords). However, we should note that there are three different colors associated with tome users, while sword users are all red. Below we will show a distribution of the color of tome users."
   ]
  },
  {
   "cell_type": "code",
   "execution_count": 126,
   "metadata": {},
   "outputs": [
    {
     "data": {
      "image/png": "[encoded data removed]",
      "text/plain": [
       "<Figure size 432x288 with 1 Axes>"
      ]
     },
     "metadata": {},
     "output_type": "display_data"
    }
   ],
   "source": [
    "# Tome\n",
    "tomebar = plt.bar([0, 1, 2], heroes.loc[heroes[\"Weapon\"] == \"Tome\"].groupby(by = \"Color\").agg(np.size).iloc[:, 0], align = \"center\")\n",
    "tomebar[np.where(heroes.loc[heroes[\"Weapon\"] == \"Tome\"].groupby(by = \"Color\").agg(np.size).index.values == \"Red\")[0][0]].set_color('r')\n",
    "tomebar[np.where(heroes.loc[heroes[\"Weapon\"] == \"Tome\"].groupby(by = \"Color\").agg(np.size).index.values == \"Blue\")[0][0]].set_color('b')\n",
    "tomebar[np.where(heroes.loc[heroes[\"Weapon\"] == \"Tome\"].groupby(by = \"Color\").agg(np.size).index.values == \"Green\")[0][0]].set_color('g')\n",
    "plt.xticks([0, 1, 2], heroes.loc[heroes[\"Weapon\"] == \"Tome\"].groupby(by = \"Color\").agg(np.size).index)\n",
    "plt.title(\"Tome Character Count by Color\")\n",
    "plt.show()"
   ]
  },
  {
   "cell_type": "code",
   "execution_count": 127,
   "metadata": {},
   "outputs": [
    {
     "data": {
      "image/png": "[encoded data removed]",
      "text/plain": [
       "<Figure size 432x288 with 1 Axes>"
      ]
     },
     "metadata": {},
     "output_type": "display_data"
    }
   ],
   "source": [
    "# See the number of characters for each movement type\n",
    "sns.set()\n",
    "\n",
    "mov_ty = [\"Infantry\", \"Armored\", \"Flying\", \"Cavalry\"]\n",
    "inf = (heroes[heroes[\"MoveType\"] == mov_ty[0]].groupby(by = \"Color\").agg(np.size).iloc[:, 0])\n",
    "arm = (heroes[heroes[\"MoveType\"] == mov_ty[1]].groupby(by = \"Color\").agg(np.size).iloc[:, 0])\n",
    "fly = (heroes[heroes[\"MoveType\"] == mov_ty[2]].groupby(by = \"Color\").agg(np.size).iloc[:, 0])\n",
    "cav = (heroes[heroes[\"MoveType\"] == mov_ty[3]].groupby(by = \"Color\").agg(np.size).iloc[:, 0])\n",
    "inds = heroes[heroes[\"MoveType\"] == mov_ty[0]].groupby(by = \"Color\").agg(np.size).index\n",
    "inds\n",
    "\n",
    "zos = np.array((inf[0], arm[0], fly[0], cav[0]))\n",
    "ones = np.array((inf[1], arm[1], fly[1], cav[1]))\n",
    "twos = np.array((inf[2], arm[2], fly[2], cav[2]))\n",
    "tres = np.array((inf[3], arm[3], fly[3], cav[3]))\n",
    "\n",
    "ind = np.arange(4)    \n",
    "width = 0.45      \n",
    "\n",
    "p1 = plt.bar(ind, zos, width, color = \"b\")\n",
    "p2 = plt.bar(ind, ones, width,  bottom=zos, color = \"xkcd:violet\")\n",
    "p3 = plt.bar(ind, twos, width,  bottom= zos + ones, color = \"g\")\n",
    "p4 = plt.bar(ind, tres, width, bottom = zos + ones + twos, color = \"r\")\n",
    "\n",
    "plt.title(\"Unit Count by Movement Type\")\n",
    "plt.xticks(ind, (\"Infantry\", \"Armored\", \"Flying\", \"Cavalry\"))\n",
    "plt.yticks(np.arange(0, np.sum(inf) + 10, 20))\n",
    "plt.legend((p1[0], p2[0], p3[0], p4[0]), (inds))\n",
    "\n",
    "plt.show()\n",
    "\n",
    "#heroes.groupby(by = \"Movement Type\").agg(np.size).iloc[:, 0].groupby(by = \"Color\").agg(np.size).iloc[:, 0]"
   ]
  },
  {
   "cell_type": "code",
   "execution_count": 128,
   "metadata": {},
   "outputs": [
    {
     "data": {
      "image/png": "[encoded data removed]",
      "text/plain": [
       "<Figure size 720x360 with 1 Axes>"
      ]
     },
     "metadata": {},
     "output_type": "display_data"
    }
   ],
   "source": [
    "# See the number of characters for each universe\n",
    "sns.set()\n",
    "\n",
    "Universes = []\n",
    "\n",
    "Archanea = len(heroes.loc[heroes[\"Origin\"] == \"Fire Emblem: Mystery of the Emblem\"]) \\\n",
    "+ len(heroes.loc[heroes[\"Origin\"] == \"Fire Emblem: Shadow Dragon and the Blade of Light\"]) \\\n",
    "+ len(heroes.loc[heroes[\"Origin\"] == \"Fire Emblem: New Mystery of the Emblem\"])\n",
    "Valentia = len(heroes.loc[heroes[\"Origin\"] == \"Fire Emblem Echoes\"])\n",
    "Jugdral = len(heroes.loc[heroes[\"Origin\"] == \"Fire Emblem: Genealogy of the Holy War\"]) \\\n",
    "+ len(heroes.loc[heroes[\"Origin\"] == \"Fire Emblem: Thracia 776\"])\n",
    "Elibe = len(heroes.loc[heroes[\"Origin\"] == \"Fire Emblem: The Blazing Blade\"]) \\\n",
    "+ len(heroes.loc[heroes[\"Origin\"] == \"Fire Emblem: The Binding Blade\"])\n",
    "Magvel = len(heroes.loc[heroes[\"Origin\"] == \"Fire Emblem: The Sacred Stones\"])\n",
    "Tellius = len(heroes.loc[heroes[\"Origin\"] == \"Fire Emblem: Path of Radiance\"]) \\\n",
    "+ len(heroes.loc[heroes[\"Origin\"] == \"Fire Emblem: Radiant Dawn\"])\n",
    "Ylisse = len(heroes.loc[heroes[\"Origin\"] == \"Fire Emblem: Awakening\"])\n",
    "Fates = len(heroes.loc[heroes[\"Origin\"] == \"Fire Emblem Fates\"])\n",
    "Heroes = len(heroes.loc[heroes[\"Origin\"] == \"Fire Emblem Heroes\"])\n",
    "threeH = len(heroes.loc[heroes[\"Origin\"] == \"Fire Emblem: Three Houses\"])\n",
    "     \n",
    "Universes.append(Archanea)\n",
    "Universes.append(Valentia)\n",
    "Universes.append(Jugdral)\n",
    "Universes.append(Elibe)      \n",
    "Universes.append(Magvel)\n",
    "Universes.append(Tellius)\n",
    "Universes.append(Ylisse)\n",
    "Universes.append(Fates)\n",
    "Universes.append(Heroes)\n",
    "Universes.append(threeH)\n",
    "\n",
    "plt.figure(figsize=(10, 5))\n",
    "plt.bar(np.arange(10), Universes, align = \"center\")\n",
    "plt.xticks(np.arange(10), [\"Archanea\", \"Valentia\", \"Jugdral\", \"Elibe\", \"Magvel\", \"Tellius\", \n",
    "                          \"Ylisse\", \"Fates\", \"Heroes\", \"Fódlan\"])\n",
    "plt.title(\"Unit Count by Universe\")\n",
    "plt.show()"
   ]
  },
  {
   "cell_type": "code",
   "execution_count": 145,
   "metadata": {},
   "outputs": [
    {
     "data": {
      "text/plain": [
       "65"
      ]
     },
     "execution_count": 145,
     "metadata": {},
     "output_type": "execute_result"
    }
   ],
   "source": [
    "len(heroes[heroes[\"Origin\"] == \"Fire Emblem Heroes\"])"
   ]
  },
  {
   "cell_type": "markdown",
   "metadata": {},
   "source": [
    "The universes above correspond to the following games:\n",
    "\n",
    "Archanea: _Fire Emblem: Shadow Dragon_ and _Fire Emblem: Mystery of the Emblem_  \n",
    "Valentia: _Fire Emblem Gaiden_ / _Fire Emblem Echoes: Shadows of Valentia_  \n",
    "Jugdral: _Fire Emblem: Geneology of the Holy War_ and _Fire Emblem Thracia 776_  \n",
    "Elibe: _Fire Emblem: Binding Blade_ and _Fire Emblem: Blazing Sword_ (known as _Fire Emblem_ in the US)  \n",
    "Magvel: _Fire Emblem: Sacred Stones_  \n",
    "Tellius: _Fire Emblem: Path of Radiance_ and _Fire Emblem: Radiant Dawn_  \n",
    "Ylisse: _Fire Emblem: Awakening_  \n",
    "Fates: _Fire Emblem: Fates_  \n",
    "Heroes: _Fire Emblem: Heroes_  \n",
    "Fódlan: _Fire Emblem: Three Houses_  \n",
    "\n",
    "We can see that certain universes have noticeably higher representation in the game. Fates characters make up about close to 20% of the current total character count. Elibe (Blazing Sword and Binding Blade) and Awakening make up the rest of the top three. It is likely that popularity of the entries is related to character representation.\n",
    "\n",
    "Interestingly, it appears that Gamepress.gg records spin-off characters as having Fire Emblem Heroes as its origin, such as Legendary Hector and Halloween Mia. We will fix this later on.\n",
    "\n",
    "Fire Emblem: Three Houses was just recently released in July 2019, so it is likely more characters will be rolled out from that entry soon enough."
   ]
  },
  {
   "cell_type": "markdown",
   "metadata": {},
   "source": [
    "## Save to CSV\n",
    "\n",
    "The cell below will save the data that we've scraped and processed into a .csv file that can be used for future analysis."
   ]
  },
  {
   "cell_type": "code",
   "execution_count": 146,
   "metadata": {},
   "outputs": [],
   "source": [
    "heroes.to_excel(\"hero_data.xlsx\", encoding='utf-8', index=False)\n",
    "#heroes[\"Name\"].to_excel(\"tier_list.xlsx\", encoding='utf-8', header = True)"
   ]
  }
 ],
 "metadata": {
  "kernelspec": {
   "display_name": "Python 3",
   "language": "python",
   "name": "python3"
  },
  "language_info": {
   "codemirror_mode": {
    "name": "ipython",
    "version": 3
   },
   "file_extension": ".py",
   "mimetype": "text/x-python",
   "name": "python",
   "nbconvert_exporter": "python",
   "pygments_lexer": "ipython3",
   "version": "3.7.3"
  },
  "toc": {
   "base_numbering": 1,
   "nav_menu": {},
   "number_sections": true,
   "sideBar": true,
   "skip_h1_title": true,
   "title_cell": "Table of Contents",
   "title_sidebar": "Contents",
   "toc_cell": false,
   "toc_position": {},
   "toc_section_display": true,
   "toc_window_display": true
  },
  "varInspector": {
   "cols": {
    "lenName": 16,
    "lenType": 16,
    "lenVar": 40
   },
   "kernels_config": {
    "python": {
     "delete_cmd_postfix": "",
     "delete_cmd_prefix": "del ",
     "library": "var_list.py",
     "varRefreshCmd": "print(var_dic_list())"
    },
    "r": {
     "delete_cmd_postfix": ") ",
     "delete_cmd_prefix": "rm(",
     "library": "var_list.r",
     "varRefreshCmd": "cat(var_dic_list()) "
    }
   },
   "types_to_exclude": [
    "module",
    "function",
    "builtin_function_or_method",
    "instance",
    "_Feature"
   ],
   "window_display": false
  }
 },
 "nbformat": 4,
 "nbformat_minor": 2
}
