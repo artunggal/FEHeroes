{
 "cells": [
  {
   "cell_type": "code",
   "execution_count": 388,
   "metadata": {},
   "outputs": [],
   "source": [
    "import urllib.request\n",
    "from urllib.request import Request, urlopen\n",
    "from bs4 import BeautifulSoup\n",
    "import csv\n",
    "import pandas as pd\n",
    "import numpy as np\n",
    "import seaborn as sns\n",
    "from scipy import stats\n",
    "%matplotlib inline\n",
    "import matplotlib.pyplot as plt\n",
    "from matplotlib.colors import ListedColormap\n",
    "from ipywidgets import widgets, interactive"
   ]
  },
  {
   "cell_type": "code",
   "execution_count": 2,
   "metadata": {},
   "outputs": [],
   "source": [
    "import plotly as py\n",
    "import plotly.graph_objs as go\n",
    "from plotly.offline import iplot, init_notebook_mode"
   ]
  },
  {
   "cell_type": "markdown",
   "metadata": {},
   "source": [
    "# Fire Emblem: Heroes Character Analysis"
   ]
  },
  {
   "cell_type": "markdown",
   "metadata": {},
   "source": [
    "## Introduction"
   ]
  },
  {
   "cell_type": "markdown",
   "metadata": {},
   "source": [
    "In this project, we will be taking a look at character data from the popular mobile game *Fire Emblem: Heroes* available on iPhone and Android. Fire Emblem, a strategy RPG franchise developed by Intelligent System, added this mobile game to its list of entries following the popularity of recent titles *Fire Emblem: Awakening* and *Fire Emblem: Fates* for the 3DS. In this entry, you are in the position of a tactician, deploying up to four characters from the Fire Emblem Universe to do battle against the opposing enemy team. The game utilizes a rock-paper-scissors battle mechanic, with some weapons being superior to others. \n",
    "\n",
    "Like many popular mobile games, *Fire Emblem: Heroes* is a free-to-play Gacha game, where characters are drawn from a random pool, each with varying rarity and power. \n",
    "\n",
    "Note: This notebook shows most of the same analysis as Fire Emblem Heroes Scraping and Visualization. However, this notebook has the original scraping processes, using gamepedia.com data instead of gamepress.gg"
   ]
  },
  {
   "cell_type": "markdown",
   "metadata": {},
   "source": [
    "## Web-Scraping"
   ]
  },
  {
   "cell_type": "markdown",
   "metadata": {},
   "source": [
    "We begin this project by obtaining the character data, using data hosted on gamepedia.com (I do not own the data)."
   ]
  },
  {
   "cell_type": "code",
   "execution_count": 176,
   "metadata": {},
   "outputs": [],
   "source": [
    "class AppURLopener(urllib.request.FancyURLopener):\n",
    "    version = \"Mozilla/5.0\"\n",
    "\n",
    "opener = Request(\"https://feheroes.gamepedia.com/Stats_Table\",\n",
    "                headers = {\"User-Agent\": \"Mozilla/5.0\"})\n",
    "\n",
    "# query the website and return the html to the variable 'webpage'\n",
    "\n",
    "webpage = urlopen(opener).read()\n",
    "\n",
    "# parse the html using beautiful soup and store in variable 'soup'\n",
    "soup = BeautifulSoup(webpage, 'html.parser')"
   ]
  },
  {
   "cell_type": "code",
   "execution_count": 177,
   "metadata": {},
   "outputs": [],
   "source": [
    "# Take out the <div> of name and get its value\n",
    "right_table=soup.find('table', id = \"max-stats-table\")\n",
    "length = len(right_table.findAll(\"tr\"))\n",
    "\n",
    "# variable placeholders for respective column info for data frame\n",
    "name = []\n",
    "color = []\n",
    "weapon_type = []\n",
    "mov_type = []\n",
    "hp = []\n",
    "atk = []\n",
    "spd = []\n",
    "defense = []\n",
    "res = []\n",
    "total = []\n",
    "\n",
    "#inserting values into the placeholders\n",
    "i = 0\n",
    "for row in right_table.findAll(\"tr\"):\n",
    "    if i == 0:\n",
    "        i += 1\n",
    "        continue\n",
    "    val = []\n",
    "    val = row[\"data-weapon-type\"].split()\n",
    "    color.append(val[0])\n",
    "    weapon_type.append(val[1])\n",
    "    mov_type.append(row[\"data-move-type\"])\n",
    "    cells = row.findAll('td')\n",
    "    name.append(cells[0].findAll('a')[0][\"title\"])\n",
    "    hp.append(int(cells[4].find(text=True)))\n",
    "    atk.append(int(cells[5].find(text=True)))\n",
    "    spd.append(int(cells[6].find(text=True)))\n",
    "    defense.append(int(cells[7].find(text=True)))\n",
    "    res.append(int(cells[8].find(text=True)))\n",
    "    total.append(int(cells[9].find(text=True)))"
   ]
  },
  {
   "cell_type": "code",
   "execution_count": 178,
   "metadata": {},
   "outputs": [],
   "source": [
    "# creating the data frame using pandas\n",
    "df = pd.DataFrame(name,columns=['Name'])\n",
    "df[\"Color\"] = color\n",
    "df['Weapon Type'] = weapon_type\n",
    "df['Movement Type'] = mov_type\n",
    "df['HP'] = hp\n",
    "df['Attack'] = atk\n",
    "df['Speed'] = spd\n",
    "df['Defense'] = defense\n",
    "df['Resistance'] = res\n",
    "df['Total'] = total"
   ]
  },
  {
   "cell_type": "markdown",
   "metadata": {},
   "source": [
    "This gives us a dataframe that details the battle-related statistics of each character, including their weapon type, movement type, and the values for each of their stats.\n",
    "\n",
    "We will take a look at the dataframe for all the renditions of the character named Ike from *Fire Emblem: Path of Radiance* and *Fire Emblem: Radiant Dawn*."
   ]
  },
  {
   "cell_type": "code",
   "execution_count": 179,
   "metadata": {},
   "outputs": [
    {
     "data": {
      "text/html": [
       "<div>\n",
       "<style scoped>\n",
       "    .dataframe tbody tr th:only-of-type {\n",
       "        vertical-align: middle;\n",
       "    }\n",
       "\n",
       "    .dataframe tbody tr th {\n",
       "        vertical-align: top;\n",
       "    }\n",
       "\n",
       "    .dataframe thead th {\n",
       "        text-align: right;\n",
       "    }\n",
       "</style>\n",
       "<table border=\"1\" class=\"dataframe\">\n",
       "  <thead>\n",
       "    <tr style=\"text-align: right;\">\n",
       "      <th></th>\n",
       "      <th>Name</th>\n",
       "      <th>Color</th>\n",
       "      <th>Weapon Type</th>\n",
       "      <th>Movement Type</th>\n",
       "      <th>HP</th>\n",
       "      <th>Attack</th>\n",
       "      <th>Speed</th>\n",
       "      <th>Defense</th>\n",
       "      <th>Resistance</th>\n",
       "      <th>Total</th>\n",
       "    </tr>\n",
       "  </thead>\n",
       "  <tbody>\n",
       "    <tr>\n",
       "      <th>157</th>\n",
       "      <td>Hector: Brave Warrior</td>\n",
       "      <td>Blue</td>\n",
       "      <td>Lance</td>\n",
       "      <td>Armored</td>\n",
       "      <td>48</td>\n",
       "      <td>37</td>\n",
       "      <td>22</td>\n",
       "      <td>39</td>\n",
       "      <td>28</td>\n",
       "      <td>174</td>\n",
       "    </tr>\n",
       "    <tr>\n",
       "      <th>158</th>\n",
       "      <td>Hector: Dressed-Up Duo</td>\n",
       "      <td>Red</td>\n",
       "      <td>Sword</td>\n",
       "      <td>Armored</td>\n",
       "      <td>47</td>\n",
       "      <td>41</td>\n",
       "      <td>26</td>\n",
       "      <td>39</td>\n",
       "      <td>27</td>\n",
       "      <td>180</td>\n",
       "    </tr>\n",
       "    <tr>\n",
       "      <th>159</th>\n",
       "      <td>Hector: General of Ostia</td>\n",
       "      <td>Green</td>\n",
       "      <td>Axe</td>\n",
       "      <td>Armored</td>\n",
       "      <td>52</td>\n",
       "      <td>36</td>\n",
       "      <td>24</td>\n",
       "      <td>37</td>\n",
       "      <td>19</td>\n",
       "      <td>168</td>\n",
       "    </tr>\n",
       "    <tr>\n",
       "      <th>160</th>\n",
       "      <td>Hector: Just Here to Fight</td>\n",
       "      <td>Green</td>\n",
       "      <td>Axe</td>\n",
       "      <td>Armored</td>\n",
       "      <td>50</td>\n",
       "      <td>38</td>\n",
       "      <td>21</td>\n",
       "      <td>40</td>\n",
       "      <td>24</td>\n",
       "      <td>173</td>\n",
       "    </tr>\n",
       "    <tr>\n",
       "      <th>161</th>\n",
       "      <td>Hector: Marquess of Ostia</td>\n",
       "      <td>Green</td>\n",
       "      <td>Axe</td>\n",
       "      <td>Armored</td>\n",
       "      <td>47</td>\n",
       "      <td>40</td>\n",
       "      <td>23</td>\n",
       "      <td>38</td>\n",
       "      <td>26</td>\n",
       "      <td>174</td>\n",
       "    </tr>\n",
       "  </tbody>\n",
       "</table>\n",
       "</div>"
      ],
      "text/plain": [
       "                           Name  Color Weapon Type Movement Type  HP  Attack  \\\n",
       "157       Hector: Brave Warrior   Blue       Lance       Armored  48      37   \n",
       "158      Hector: Dressed-Up Duo    Red       Sword       Armored  47      41   \n",
       "159    Hector: General of Ostia  Green         Axe       Armored  52      36   \n",
       "160  Hector: Just Here to Fight  Green         Axe       Armored  50      38   \n",
       "161   Hector: Marquess of Ostia  Green         Axe       Armored  47      40   \n",
       "\n",
       "     Speed  Defense  Resistance  Total  \n",
       "157     22       39          28    174  \n",
       "158     26       39          27    180  \n",
       "159     24       37          19    168  \n",
       "160     21       40          24    173  \n",
       "161     23       38          26    174  "
      ]
     },
     "execution_count": 179,
     "metadata": {},
     "output_type": "execute_result"
    }
   ],
   "source": [
    "df[df['Name'].str.contains(\"Hector\")]"
   ]
  },
  {
   "cell_type": "markdown",
   "metadata": {},
   "source": [
    "However, there's more data that is involved with each character. We also would like to obtain information regarding what Fire Emblem game they are from originally, when the character was first introduced into FE Heroes, what rarities they are available at, how they can be obtained in the game, and whether they are one of the distinct \"Legendary Heroes\" or not (we will be doing an analysis on them later). We will be using another link from gamepedia.com to do so:"
   ]
  },
  {
   "cell_type": "code",
   "execution_count": 180,
   "metadata": {},
   "outputs": [],
   "source": [
    "#grab universe from link\n",
    "    \n",
    "opener2 = Request(\"https://feheroes.gamepedia.com/Hero_list\",\n",
    "        headers = {\"User-Agent\": \"Mozilla/5.0\"})\n",
    "\n",
    "# query the website and return the html to the variable 'webpage'\n",
    "\n",
    "universe = urlopen(opener2).read()\n",
    "\n",
    "# parse the html using beautiful soup and store in variable 'soup'\n",
    "uni = BeautifulSoup(universe, 'html.parser')\n",
    "\n",
    "left_table=uni.find('table')\n",
    "length = len(left_table.findAll(\"tr\"))\n",
    "\n",
    "# variable placeholders for respective column info for data frame\n",
    "nombre = []\n",
    "origin = []\n",
    "col = []\n",
    "weap_type = []\n",
    "move_type = []\n",
    "rarities = []\n",
    "st_tt = []\n",
    "release = []\n",
    "lgd = []\n",
    "myt = []\n",
    "\n",
    "tab_vals = left_table.findAll(\"tr\")\n",
    "\n",
    "for ind in range(1, len(tab_vals)):\n",
    "    val = []\n",
    "    val = tab_vals[ind][\"data-weapon-type\"].split()\n",
    "    cells = tab_vals[ind].findAll(\"td\")\n",
    "    \n",
    "    nombre.append(cells[1].findAll('a')[0][\"title\"])\n",
    "    origin.append(cells[2].find(text=True))\n",
    "    rare = (cells[5].findAll(text=True))\n",
    "    add = []\n",
    "    legend = False\n",
    "    mythic = False\n",
    "    for i in np.arange(len(rare)):\n",
    "        app = \"None\"\n",
    "        if str(rare[i]).find(\"–\") != -1:\n",
    "            rare[i] = str(rare[i]).replace(\"–\", \"\")\n",
    "        if rare[i].find(\" \") != -1:\n",
    "            rare[i] = str(rare[i]).replace(\" \", \"\")\n",
    "        if rare[i] == \"TempestTrials\":\n",
    "            app = \"Tempest Trials\"\n",
    "        if rare[i] == \"GrandHeroBattle\":\n",
    "            app = \"Grand Hero Battle\"\n",
    "        if rare[i] == \"Story\":\n",
    "            app = \"Story\"\n",
    "        if i + 1 == len(rare):\n",
    "            st_tt.append(app)\n",
    "        if rare[i] in (\"3\", \"4\", \"5\"):\n",
    "            add.append(int(rare[i]))\n",
    "        if rare[i] == \"Legendary\":\n",
    "            legend = True\n",
    "        if rare[i] == \"Mythic\":\n",
    "            mythic = True\n",
    "    lgd.append(legend)\n",
    "    myt.append(mythic)\n",
    "    rarities.append(add)\n",
    "    release.append(cells[6].find(text=True))\n",
    "    \n",
    "    \n",
    "# creating the data frame using pandas\n",
    "df2 = pd.DataFrame(nombre,columns=['Name'])\n",
    "df2[\"Origin\"] = origin\n",
    "df2['Rarities'] = rarities\n",
    "df2['Story/TT/GHB?'] = st_tt\n",
    "df2['Release Date'] = release\n",
    "df2[\"Legendary\"] = lgd\n",
    "df2[\"Mythic\"] = myt"
   ]
  },
  {
   "cell_type": "markdown",
   "metadata": {},
   "source": [
    "Now we have our second dataframe which, when running the cell below, looks like this:"
   ]
  },
  {
   "cell_type": "code",
   "execution_count": 181,
   "metadata": {},
   "outputs": [
    {
     "data": {
      "text/html": [
       "<div>\n",
       "<style scoped>\n",
       "    .dataframe tbody tr th:only-of-type {\n",
       "        vertical-align: middle;\n",
       "    }\n",
       "\n",
       "    .dataframe tbody tr th {\n",
       "        vertical-align: top;\n",
       "    }\n",
       "\n",
       "    .dataframe thead th {\n",
       "        text-align: right;\n",
       "    }\n",
       "</style>\n",
       "<table border=\"1\" class=\"dataframe\">\n",
       "  <thead>\n",
       "    <tr style=\"text-align: right;\">\n",
       "      <th></th>\n",
       "      <th>Name</th>\n",
       "      <th>Origin</th>\n",
       "      <th>Rarities</th>\n",
       "      <th>Story/TT/GHB?</th>\n",
       "      <th>Release Date</th>\n",
       "      <th>Legendary</th>\n",
       "      <th>Mythic</th>\n",
       "    </tr>\n",
       "  </thead>\n",
       "  <tbody>\n",
       "    <tr>\n",
       "      <th>0</th>\n",
       "      <td>Abel: The Panther</td>\n",
       "      <td>Fire Emblem: Mystery of the Emblem</td>\n",
       "      <td>[3, 4]</td>\n",
       "      <td>None</td>\n",
       "      <td>2017-02-02</td>\n",
       "      <td>False</td>\n",
       "      <td>False</td>\n",
       "    </tr>\n",
       "    <tr>\n",
       "      <th>1</th>\n",
       "      <td>Alfonse: Prince of Askr</td>\n",
       "      <td>Fire Emblem Heroes</td>\n",
       "      <td>[4]</td>\n",
       "      <td>Story</td>\n",
       "      <td>2017-02-02</td>\n",
       "      <td>False</td>\n",
       "      <td>False</td>\n",
       "    </tr>\n",
       "    <tr>\n",
       "      <th>...</th>\n",
       "      <td>...</td>\n",
       "      <td>...</td>\n",
       "      <td>...</td>\n",
       "      <td>...</td>\n",
       "      <td>...</td>\n",
       "      <td>...</td>\n",
       "      <td>...</td>\n",
       "    </tr>\n",
       "    <tr>\n",
       "      <th>451</th>\n",
       "      <td>Zelgius: Jet-Black General</td>\n",
       "      <td>Fire Emblem: Radiant Dawn</td>\n",
       "      <td>[5]</td>\n",
       "      <td>None</td>\n",
       "      <td>2018-01-12</td>\n",
       "      <td>False</td>\n",
       "      <td>False</td>\n",
       "    </tr>\n",
       "    <tr>\n",
       "      <th>452</th>\n",
       "      <td>Zephiel: The Liberator</td>\n",
       "      <td>Fire Emblem: The Binding Blade</td>\n",
       "      <td>[3, 4]</td>\n",
       "      <td>Grand Hero Battle</td>\n",
       "      <td>2017-04-20</td>\n",
       "      <td>False</td>\n",
       "      <td>False</td>\n",
       "    </tr>\n",
       "  </tbody>\n",
       "</table>\n",
       "<p>453 rows × 7 columns</p>\n",
       "</div>"
      ],
      "text/plain": [
       "                           Name                              Origin Rarities  \\\n",
       "0             Abel: The Panther  Fire Emblem: Mystery of the Emblem   [3, 4]   \n",
       "1       Alfonse: Prince of Askr                  Fire Emblem Heroes      [4]   \n",
       "..                          ...                                 ...      ...   \n",
       "451  Zelgius: Jet-Black General           Fire Emblem: Radiant Dawn      [5]   \n",
       "452      Zephiel: The Liberator      Fire Emblem: The Binding Blade   [3, 4]   \n",
       "\n",
       "         Story/TT/GHB? Release Date  Legendary  Mythic  \n",
       "0                 None   2017-02-02      False   False  \n",
       "1                Story   2017-02-02      False   False  \n",
       "..                 ...          ...        ...     ...  \n",
       "451               None   2018-01-12      False   False  \n",
       "452  Grand Hero Battle   2017-04-20      False   False  \n",
       "\n",
       "[453 rows x 7 columns]"
      ]
     },
     "metadata": {},
     "output_type": "display_data"
    }
   ],
   "source": [
    "with pd.option_context('display.max_rows', 5, 'display.max_columns', 100):\n",
    "    display(df2)"
   ]
  },
  {
   "cell_type": "markdown",
   "metadata": {},
   "source": [
    "And then we merge the two dataframes together to create a dataframe called \"heroes\", which contains all of the available data on each character. The following cell will both merge the two dataframes together, as well as give us the first five rows of our new dataframe."
   ]
  },
  {
   "cell_type": "code",
   "execution_count": 348,
   "metadata": {},
   "outputs": [
    {
     "data": {
      "text/html": [
       "<div>\n",
       "<style scoped>\n",
       "    .dataframe tbody tr th:only-of-type {\n",
       "        vertical-align: middle;\n",
       "    }\n",
       "\n",
       "    .dataframe tbody tr th {\n",
       "        vertical-align: top;\n",
       "    }\n",
       "\n",
       "    .dataframe thead th {\n",
       "        text-align: right;\n",
       "    }\n",
       "</style>\n",
       "<table border=\"1\" class=\"dataframe\">\n",
       "  <thead>\n",
       "    <tr style=\"text-align: right;\">\n",
       "      <th></th>\n",
       "      <th>Name</th>\n",
       "      <th>Origin</th>\n",
       "      <th>Rarities</th>\n",
       "      <th>Story/TT/GHB?</th>\n",
       "      <th>Release Date</th>\n",
       "      <th>Legendary</th>\n",
       "      <th>Mythic</th>\n",
       "      <th>Color</th>\n",
       "      <th>Weapon Type</th>\n",
       "      <th>Movement Type</th>\n",
       "      <th>HP</th>\n",
       "      <th>Attack</th>\n",
       "      <th>Speed</th>\n",
       "      <th>Defense</th>\n",
       "      <th>Resistance</th>\n",
       "      <th>Total</th>\n",
       "    </tr>\n",
       "  </thead>\n",
       "  <tbody>\n",
       "    <tr>\n",
       "      <th>0</th>\n",
       "      <td>Abel: The Panther</td>\n",
       "      <td>Fire Emblem: Mystery of the Emblem</td>\n",
       "      <td>[3, 4]</td>\n",
       "      <td>None</td>\n",
       "      <td>2017-02-02</td>\n",
       "      <td>False</td>\n",
       "      <td>False</td>\n",
       "      <td>Blue</td>\n",
       "      <td>Lance</td>\n",
       "      <td>Cavalry</td>\n",
       "      <td>39</td>\n",
       "      <td>33</td>\n",
       "      <td>32</td>\n",
       "      <td>25</td>\n",
       "      <td>25</td>\n",
       "      <td>154</td>\n",
       "    </tr>\n",
       "    <tr>\n",
       "      <th>1</th>\n",
       "      <td>Alfonse: Prince of Askr</td>\n",
       "      <td>Fire Emblem Heroes</td>\n",
       "      <td>[4]</td>\n",
       "      <td>Story</td>\n",
       "      <td>2017-02-02</td>\n",
       "      <td>False</td>\n",
       "      <td>False</td>\n",
       "      <td>Red</td>\n",
       "      <td>Sword</td>\n",
       "      <td>Infantry</td>\n",
       "      <td>43</td>\n",
       "      <td>35</td>\n",
       "      <td>25</td>\n",
       "      <td>32</td>\n",
       "      <td>22</td>\n",
       "      <td>157</td>\n",
       "    </tr>\n",
       "    <tr>\n",
       "      <th>2</th>\n",
       "      <td>Alfonse: Spring Prince</td>\n",
       "      <td>Fire Emblem Heroes</td>\n",
       "      <td>[5]</td>\n",
       "      <td>None</td>\n",
       "      <td>2018-03-22</td>\n",
       "      <td>False</td>\n",
       "      <td>False</td>\n",
       "      <td>Green</td>\n",
       "      <td>Axe</td>\n",
       "      <td>Cavalry</td>\n",
       "      <td>41</td>\n",
       "      <td>35</td>\n",
       "      <td>33</td>\n",
       "      <td>30</td>\n",
       "      <td>18</td>\n",
       "      <td>157</td>\n",
       "    </tr>\n",
       "    <tr>\n",
       "      <th>3</th>\n",
       "      <td>Alm: Hero of Prophecy</td>\n",
       "      <td>Fire Emblem Echoes: Shadows of Valentia</td>\n",
       "      <td>[5]</td>\n",
       "      <td>None</td>\n",
       "      <td>2017-04-14</td>\n",
       "      <td>False</td>\n",
       "      <td>False</td>\n",
       "      <td>Red</td>\n",
       "      <td>Sword</td>\n",
       "      <td>Infantry</td>\n",
       "      <td>45</td>\n",
       "      <td>33</td>\n",
       "      <td>30</td>\n",
       "      <td>28</td>\n",
       "      <td>22</td>\n",
       "      <td>158</td>\n",
       "    </tr>\n",
       "    <tr>\n",
       "      <th>4</th>\n",
       "      <td>Alm: Imperial Ascent</td>\n",
       "      <td>Fire Emblem Echoes: Shadows of Valentia</td>\n",
       "      <td>[5]</td>\n",
       "      <td>None</td>\n",
       "      <td>2019-08-16</td>\n",
       "      <td>False</td>\n",
       "      <td>False</td>\n",
       "      <td>Red</td>\n",
       "      <td>Sword</td>\n",
       "      <td>Infantry</td>\n",
       "      <td>42</td>\n",
       "      <td>38</td>\n",
       "      <td>35</td>\n",
       "      <td>37</td>\n",
       "      <td>20</td>\n",
       "      <td>172</td>\n",
       "    </tr>\n",
       "  </tbody>\n",
       "</table>\n",
       "</div>"
      ],
      "text/plain": [
       "                      Name                                   Origin Rarities  \\\n",
       "0        Abel: The Panther       Fire Emblem: Mystery of the Emblem   [3, 4]   \n",
       "1  Alfonse: Prince of Askr                       Fire Emblem Heroes      [4]   \n",
       "2   Alfonse: Spring Prince                       Fire Emblem Heroes      [5]   \n",
       "3    Alm: Hero of Prophecy  Fire Emblem Echoes: Shadows of Valentia      [5]   \n",
       "4     Alm: Imperial Ascent  Fire Emblem Echoes: Shadows of Valentia      [5]   \n",
       "\n",
       "  Story/TT/GHB? Release Date  Legendary  Mythic  Color Weapon Type  \\\n",
       "0          None   2017-02-02      False   False   Blue       Lance   \n",
       "1         Story   2017-02-02      False   False    Red       Sword   \n",
       "2          None   2018-03-22      False   False  Green         Axe   \n",
       "3          None   2017-04-14      False   False    Red       Sword   \n",
       "4          None   2019-08-16      False   False    Red       Sword   \n",
       "\n",
       "  Movement Type  HP  Attack  Speed  Defense  Resistance  Total  \n",
       "0       Cavalry  39      33     32       25          25    154  \n",
       "1      Infantry  43      35     25       32          22    157  \n",
       "2       Cavalry  41      35     33       30          18    157  \n",
       "3      Infantry  45      33     30       28          22    158  \n",
       "4      Infantry  42      38     35       37          20    172  "
      ]
     },
     "execution_count": 348,
     "metadata": {},
     "output_type": "execute_result"
    }
   ],
   "source": [
    "heroes = pd.merge(df2, df, on = \"Name\")\n",
    "#with pd.option_context('display.max_rows', None, 'display.max_columns', 100):\n",
    "#    display(heroes)\n",
    "heroes.head()"
   ]
  },
  {
   "cell_type": "markdown",
   "metadata": {},
   "source": [
    "## Data Visualization"
   ]
  },
  {
   "cell_type": "markdown",
   "metadata": {},
   "source": [
    "In this section, we'll take a deeper look at the data that we just scraped to give ourselves a better idea of what we're working with. Some of the features that we'll be looking at are related to character statistics, weapon type, color, and game origin."
   ]
  },
  {
   "cell_type": "markdown",
   "metadata": {},
   "source": [
    "### Stat Distribution"
   ]
  },
  {
   "cell_type": "code",
   "execution_count": 10,
   "metadata": {},
   "outputs": [
    {
     "data": {
      "application/vnd.jupyter.widget-view+json": {
       "model_id": "b5923ef4a0e740fbb3c17ca12d11da28",
       "version_major": 2,
       "version_minor": 0
      },
      "text/plain": [
       "interactive(children=(Dropdown(description='Category:', options=('Weapon Type', 'Movement Type', 'Color'), val…"
      ]
     },
     "metadata": {},
     "output_type": "display_data"
    }
   ],
   "source": [
    "# Make drop down for comparison of unit composition\n",
    "sns.set()\n",
    "\n",
    "cat_comp = widgets.Dropdown(\n",
    "    options=[\"Weapon Type\", \"Movement Type\", \"Color\"],\n",
    "    value=\"Weapon Type\",\n",
    "    description=\"Category:\",\n",
    ")\n",
    "\n",
    "stat_comp = widgets.Dropdown(\n",
    "    options=[\"HP\", \"Attack\", \"Speed\", \"Defense\", \"Resistance\"],\n",
    "    value='HP',\n",
    "    description='Stat:',\n",
    ")\n",
    "\n",
    "def plotit(cat, stat):\n",
    "    plt.figure(figsize=(8, 5))\n",
    "    sns.set(style=\"ticks\")\n",
    "    if cat == \"Color\":\n",
    "        sns.violinplot(x= cat, y= stat, data=heroes, palette=[\"#3498db\", \"#fe2c54\", \"#12e193\", \"#bf77f6\"])\n",
    "    elif cat == \"Weapon Type\":\n",
    "        sns.violinplot(x= cat, y= stat, data=heroes, palette=\"Set3\")\n",
    "    else:\n",
    "        sns.violinplot(x= cat, y= stat, data=heroes, palette=\"hls\")\n",
    "\n",
    "interactive(plotit, cat = cat_comp, stat = stat_comp)"
   ]
  },
  {
   "cell_type": "markdown",
   "metadata": {},
   "source": [
    "### Character Distribution"
   ]
  },
  {
   "cell_type": "code",
   "execution_count": 18,
   "metadata": {},
   "outputs": [
    {
     "data": {
      "image/png": "[encoded data removed]",
      "text/plain": [
       "<Figure size 432x288 with 1 Axes>"
      ]
     },
     "metadata": {},
     "output_type": "display_data"
    }
   ],
   "source": [
    "# See the number of characters for each color\n",
    "sns.set()\n",
    "\n",
    "colors = heroes.groupby(by=\"Color\").agg(np.size).iloc[:, 6]\n",
    "colors = colors.rename(\"Color\")\n",
    "colors.plot.pie(labels=['Blue', 'Colorless', 'Green', 'Red'], colors=['b', 'gray', 'g', 'r'], autopct='%.2f')\n",
    "plt.title(\"Unit Distribution by Color\")\n",
    "plt.show()"
   ]
  },
  {
   "cell_type": "code",
   "execution_count": 11,
   "metadata": {},
   "outputs": [
    {
     "data": {
      "image/png": "[encoded data removed]",
      "text/plain": [
       "<Figure size 504x360 with 1 Axes>"
      ]
     },
     "metadata": {},
     "output_type": "display_data"
    }
   ],
   "source": [
    "# See the number of characters for each weapon type\n",
    "sns.set()\n",
    "plt.figure(figsize=(7, 5))\n",
    "plt.bar([0, 1, 2, 3, 4, 5, 6, 7, 8], heroes.groupby(by = \"Weapon Type\").agg(np.size).iloc[:, 0], align = \"center\")\n",
    "plt.xticks([0, 1, 2, 3, 4, 5, 6, 7, 8], heroes.groupby(by = \"Weapon Type\").agg(np.size).index)\n",
    "plt.title(\"Unit Count by Weapon Type\")\n",
    "plt.show()"
   ]
  },
  {
   "cell_type": "markdown",
   "metadata": {},
   "source": [
    "We see that characters that use tomes are the most abundant in the game (barely beating out those who use swords). However, we should note that there are three different colors associated with tome users, while sword users are all red. Below we will show a distribution of the color of tome users."
   ]
  },
  {
   "cell_type": "code",
   "execution_count": 12,
   "metadata": {},
   "outputs": [
    {
     "data": {
      "image/png": "[encoded data removed]",
      "text/plain": [
       "<Figure size 432x288 with 1 Axes>"
      ]
     },
     "metadata": {},
     "output_type": "display_data"
    }
   ],
   "source": [
    "# Tome\n",
    "tomebar = plt.bar([0, 1, 2], heroes.loc[heroes[\"Weapon Type\"] == \"Tome\"].groupby(by = \"Color\").agg(np.size).iloc[:, 0], align = \"center\")\n",
    "tomebar[np.where(heroes.loc[heroes[\"Weapon Type\"] == \"Tome\"].groupby(by = \"Color\").agg(np.size).index.values == \"Red\")[0][0]].set_color('r')\n",
    "tomebar[np.where(heroes.loc[heroes[\"Weapon Type\"] == \"Tome\"].groupby(by = \"Color\").agg(np.size).index.values == \"Blue\")[0][0]].set_color('b')\n",
    "tomebar[np.where(heroes.loc[heroes[\"Weapon Type\"] == \"Tome\"].groupby(by = \"Color\").agg(np.size).index.values == \"Green\")[0][0]].set_color('g')\n",
    "plt.xticks([0, 1, 2], heroes.loc[heroes[\"Weapon Type\"] == \"Tome\"].groupby(by = \"Color\").agg(np.size).index)\n",
    "plt.title(\"Tome Character Count by Color\")\n",
    "plt.show()"
   ]
  },
  {
   "cell_type": "code",
   "execution_count": 14,
   "metadata": {},
   "outputs": [
    {
     "data": {
      "image/png": "[encoded data removed]",
      "text/plain": [
       "<Figure size 432x288 with 1 Axes>"
      ]
     },
     "metadata": {},
     "output_type": "display_data"
    }
   ],
   "source": [
    "# See the number of characters for each movement type\n",
    "sns.set()\n",
    "\n",
    "mov_ty = [\"Infantry\", \"Armored\", \"Flying\", \"Cavalry\"]\n",
    "inf = (heroes[heroes[\"Movement Type\"] == mov_ty[0]].groupby(by = \"Color\").agg(np.size).iloc[:, 0])\n",
    "arm = (heroes[heroes[\"Movement Type\"] == mov_ty[1]].groupby(by = \"Color\").agg(np.size).iloc[:, 0])\n",
    "fly = (heroes[heroes[\"Movement Type\"] == mov_ty[2]].groupby(by = \"Color\").agg(np.size).iloc[:, 0])\n",
    "cav = (heroes[heroes[\"Movement Type\"] == mov_ty[3]].groupby(by = \"Color\").agg(np.size).iloc[:, 0])\n",
    "inds = heroes[heroes[\"Movement Type\"] == mov_ty[0]].groupby(by = \"Color\").agg(np.size).index\n",
    "inds\n",
    "\n",
    "zos = np.array((inf[0], arm[0], fly[0], cav[0]))\n",
    "ones = np.array((inf[1], arm[1], fly[1], cav[1]))\n",
    "twos = np.array((inf[2], arm[2], fly[2], cav[2]))\n",
    "tres = np.array((inf[3], arm[3], fly[3], cav[3]))\n",
    "\n",
    "ind = np.arange(4)    \n",
    "width = 0.45      \n",
    "\n",
    "p1 = plt.bar(ind, zos, width, color = \"b\")\n",
    "p2 = plt.bar(ind, ones, width,  bottom=zos, color = \"xkcd:violet\")\n",
    "p3 = plt.bar(ind, twos, width,  bottom= zos + ones, color = \"g\")\n",
    "p4 = plt.bar(ind, tres, width, bottom = zos + ones + twos, color = \"r\")\n",
    "\n",
    "plt.title(\"Unit Count by Movement Type\")\n",
    "plt.xticks(ind, (\"Infantry\", \"Armored\", \"Flying\", \"Cavalry\"))\n",
    "plt.yticks(np.arange(0, np.sum(inf) + 10, 20))\n",
    "plt.legend((p1[0], p2[0], p3[0], p4[0]), (inds))\n",
    "\n",
    "plt.show()\n",
    "\n",
    "#heroes.groupby(by = \"Movement Type\").agg(np.size).iloc[:, 0].groupby(by = \"Color\").agg(np.size).iloc[:, 0]"
   ]
  },
  {
   "cell_type": "code",
   "execution_count": 15,
   "metadata": {},
   "outputs": [
    {
     "data": {
      "image/png": "[encoded data removed]",
      "text/plain": [
       "<Figure size 720x360 with 1 Axes>"
      ]
     },
     "metadata": {},
     "output_type": "display_data"
    }
   ],
   "source": [
    "# See the number of characters for each universe\n",
    "sns.set()\n",
    "\n",
    "Universes = []\n",
    "\n",
    "Archanea = len(heroes.loc[heroes[\"Origin\"] == \"Fire Emblem: Mystery of the Emblem\"]) \\\n",
    "+ len(heroes.loc[heroes[\"Origin\"] == \"Fire Emblem: Shadow Dragon and the Blade of Light\"]) \\\n",
    "+ len(heroes.loc[heroes[\"Origin\"] == \"Fire Emblem: New Mystery of the Emblem\"])\n",
    "Valentia = len(heroes.loc[heroes[\"Origin\"] == \"Fire Emblem Echoes: Shadows of Valentia\"])\n",
    "Jugdral = len(heroes.loc[heroes[\"Origin\"] == \"Fire Emblem: Genealogy of the Holy War\"]) \\\n",
    "+ len(heroes.loc[heroes[\"Origin\"] == \"Fire Emblem: Thracia 776\"])\n",
    "Elibe = len(heroes.loc[heroes[\"Origin\"] == \"Fire Emblem: The Blazing Blade\"]) \\\n",
    "+ len(heroes.loc[heroes[\"Origin\"] == \"Fire Emblem: The Binding Blade\"])\n",
    "Magvel = len(heroes.loc[heroes[\"Origin\"] == \"Fire Emblem: The Sacred Stones\"])\n",
    "Tellius = len(heroes.loc[heroes[\"Origin\"] == \"Fire Emblem: Path of Radiance\"]) \\\n",
    "+ len(heroes.loc[heroes[\"Origin\"] == \"Fire Emblem: Radiant Dawn\"])\n",
    "Ylisse = len(heroes.loc[heroes[\"Origin\"] == \"Fire Emblem Awakening\"])\n",
    "Fates = len(heroes.loc[heroes[\"Origin\"] == \"Fire Emblem Fates\"])\n",
    "Heroes = len(heroes.loc[heroes[\"Origin\"] == \"Fire Emblem Heroes\"])\n",
    "threeH = len(heroes.loc[heroes[\"Origin\"] == \"Fire Emblem: Three Houses\"])\n",
    "     \n",
    "Universes.append(Archanea)\n",
    "Universes.append(Valentia)\n",
    "Universes.append(Jugdral)\n",
    "Universes.append(Elibe)      \n",
    "Universes.append(Magvel)\n",
    "Universes.append(Tellius)\n",
    "Universes.append(Ylisse)\n",
    "Universes.append(Fates)\n",
    "Universes.append(Heroes)\n",
    "Universes.append(threeH)\n",
    "\n",
    "plt.figure(figsize=(10, 5))\n",
    "plt.bar(np.arange(10), Universes, align = \"center\")\n",
    "plt.xticks(np.arange(10), [\"Archanea\", \"Valentia\", \"Jugdral\", \"Elibe\", \"Magvel\", \"Tellius\", \n",
    "                          \"Ylisse\", \"Fates\", \"Heroes\", \"Fódlan\"])\n",
    "plt.title(\"Unit Count by Universe\")\n",
    "plt.show()"
   ]
  },
  {
   "cell_type": "markdown",
   "metadata": {},
   "source": [
    "The universes above correspond to the following games:\n",
    "\n",
    "Archanea: _Fire Emblem: Shadow Dragon_ and _Fire Emblem: Mystery of the Emblem_  \n",
    "Valentia: _Fire Emblem Gaiden_ / _Fire Emblem Echoes: Shadows of Valentia_  \n",
    "Jugdral: _Fire Emblem: Geneology of the Holy War_ and _Fire Emblem Thracia 776_  \n",
    "Elibe: _Fire Emblem: Binding Blade_ and _Fire Emblem: Blazing Sword_ (known as _Fire Emblem_ in the US)  \n",
    "Magvel: _Fire Emblem: Sacred Stones_  \n",
    "Tellius: _Fire Emblem: Path of Radiance_ and _Fire Emblem: Radiant Dawn_  \n",
    "Ylisse: _Fire Emblem: Awakening_  \n",
    "Fates: _Fire Emblem: Fates_  \n",
    "Heroes: _Fire Emblem: Heroes_\n",
    "Fódlan: _Fire Emblem: Three Houses_  \n",
    "\n",
    "We can see that certain universes have noticeably higher representation in the game. Fates characters make up about close to 20% of the current total character count. Elibe (Blazing Sword and Binding Blade) and Awakening make up the rest of the top three. It is likely that popularity of the entries is related to character representation.\n",
    "\n",
    "Fire Emblem: Three Houses was just recently released in July 2019, so it is likely more characters will be rolled out from that entry soon enough."
   ]
  },
  {
   "cell_type": "markdown",
   "metadata": {},
   "source": [
    "## Save to CSV\n",
    "\n",
    "The cell below will save the data that we've scraped and processed into a .csv file that can be used for future analysis.\n",
    "\n",
    "NOTE: because there is an updated version of this file using selenium, we will not be saving the data in this file."
   ]
  },
  {
   "cell_type": "code",
   "execution_count": 31,
   "metadata": {},
   "outputs": [],
   "source": [
    "#heroes.to_excel(\"hero_data.xlsx\", encoding='utf-8', index=False)\n",
    "#heroes[\"Name\"].to_excel(\"tier_list.xlsx\", encoding='utf-8', header = True)"
   ]
  }
 ],
 "metadata": {
  "kernelspec": {
   "display_name": "Python 3",
   "language": "python",
   "name": "python3"
  },
  "language_info": {
   "codemirror_mode": {
    "name": "ipython",
    "version": 3
   },
   "file_extension": ".py",
   "mimetype": "text/x-python",
   "name": "python",
   "nbconvert_exporter": "python",
   "pygments_lexer": "ipython3",
   "version": "3.7.3"
  },
  "toc": {
   "base_numbering": 1,
   "nav_menu": {},
   "number_sections": true,
   "sideBar": true,
   "skip_h1_title": true,
   "title_cell": "Table of Contents",
   "title_sidebar": "Contents",
   "toc_cell": false,
   "toc_position": {},
   "toc_section_display": true,
   "toc_window_display": true
  },
  "varInspector": {
   "cols": {
    "lenName": 16,
    "lenType": 16,
    "lenVar": 40
   },
   "kernels_config": {
    "python": {
     "delete_cmd_postfix": "",
     "delete_cmd_prefix": "del ",
     "library": "var_list.py",
     "varRefreshCmd": "print(var_dic_list())"
    },
    "r": {
     "delete_cmd_postfix": ") ",
     "delete_cmd_prefix": "rm(",
     "library": "var_list.r",
     "varRefreshCmd": "cat(var_dic_list()) "
    }
   },
   "types_to_exclude": [
    "module",
    "function",
    "builtin_function_or_method",
    "instance",
    "_Feature"
   ],
   "window_display": false
  }
 },
 "nbformat": 4,
 "nbformat_minor": 2
}
