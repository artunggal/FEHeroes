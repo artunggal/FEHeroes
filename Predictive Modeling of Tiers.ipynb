{
 "cells": [
  {
   "cell_type": "code",
   "execution_count": 116,
   "metadata": {},
   "outputs": [],
   "source": [
    "import numpy as np\n",
    "import pandas as pd\n",
    "import seaborn as sns\n",
    "import urllib.request\n",
    "import matplotlib.pyplot as plt\n",
    "from urllib.request import Request, urlopen\n",
    "from bs4 import BeautifulSoup\n",
    "from datetime import datetime\n",
    "\n",
    "from sklearn.gaussian_process import GaussianProcessClassifier\n",
    "from sklearn.tree import DecisionTreeClassifier\n",
    "from sklearn.linear_model import LogisticRegression\n",
    "from sklearn import svm"
   ]
  },
  {
   "cell_type": "markdown",
   "metadata": {},
   "source": [
    "# Fire Emblem Heroes: Predicting Tiers for Current and New Characters"
   ]
  },
  {
   "cell_type": "markdown",
   "metadata": {},
   "source": [
    "For many people who play gacha games, there comes a time where the player accumulates a boatload amount of items (for this game: orbs) that can be used to roll for characters. For those who are FTP (free to play), every orb is precious, because accumulating enough to roll, let alone to accumulate enough to have a shot at a character that they want, takes time\n",
    "\n",
    "Most players are influenced by two factors when rolling for characters: whether they like the character, and whether the character is good in the game.\n",
    "\n",
    "Because the first factor is purely subjective, we would like to address the second factor: What makes a character good? A place that I often look to when trying to see how good a character is, is Gamepress.gg, particularly the [tier list](https://gamepress.gg/feheroes/offense-tier-list).\n",
    "\n",
    "In this notebook, we will go through the process of creating a model to predict what tier characters fall under. This will help give us a better idea of whether a character is \"good\" or not."
   ]
  },
  {
   "cell_type": "markdown",
   "metadata": {},
   "source": [
    "To start we will load the dataset we scraped previously (refer to the Fire Emblem Heroes Scraping and Visualization Notebook to see process)"
   ]
  },
  {
   "cell_type": "code",
   "execution_count": 117,
   "metadata": {},
   "outputs": [],
   "source": [
    "#tiers = pd.read_excel(\"tier_list_110719.xlsx\")\n",
    "heroes = pd.read_excel(\"hero_data.xlsx\")"
   ]
  },
  {
   "cell_type": "code",
   "execution_count": 119,
   "metadata": {},
   "outputs": [
    {
     "data": {
      "text/html": [
       "<div>\n",
       "<style scoped>\n",
       "    .dataframe tbody tr th:only-of-type {\n",
       "        vertical-align: middle;\n",
       "    }\n",
       "\n",
       "    .dataframe tbody tr th {\n",
       "        vertical-align: top;\n",
       "    }\n",
       "\n",
       "    .dataframe thead th {\n",
       "        text-align: right;\n",
       "    }\n",
       "</style>\n",
       "<table border=\"1\" class=\"dataframe\">\n",
       "  <thead>\n",
       "    <tr style=\"text-align: right;\">\n",
       "      <th></th>\n",
       "      <th>Name</th>\n",
       "      <th>Tier</th>\n",
       "      <th>Color</th>\n",
       "      <th>Weapon</th>\n",
       "      <th>MoveType</th>\n",
       "      <th>Rarities</th>\n",
       "      <th>HP</th>\n",
       "      <th>Atk</th>\n",
       "      <th>Spd</th>\n",
       "      <th>Def</th>\n",
       "      <th>Res</th>\n",
       "      <th>Total</th>\n",
       "      <th>Refines</th>\n",
       "      <th>Personal Weapon</th>\n",
       "      <th>Legendary/Mythic</th>\n",
       "      <th>Origin</th>\n",
       "      <th>Refresher</th>\n",
       "      <th>Stars</th>\n",
       "      <th>Obtain</th>\n",
       "    </tr>\n",
       "  </thead>\n",
       "  <tbody>\n",
       "    <tr>\n",
       "      <th>0</th>\n",
       "      <td>Abel</td>\n",
       "      <td>Tier 4</td>\n",
       "      <td>Blue</td>\n",
       "      <td>Lance</td>\n",
       "      <td>Cavalry</td>\n",
       "      <td>stars-3-4</td>\n",
       "      <td>39</td>\n",
       "      <td>33</td>\n",
       "      <td>32</td>\n",
       "      <td>25</td>\n",
       "      <td>25</td>\n",
       "      <td>154</td>\n",
       "      <td>True</td>\n",
       "      <td>False</td>\n",
       "      <td>False</td>\n",
       "      <td>Fire Emblem: Mystery of the Emblem</td>\n",
       "      <td>False</td>\n",
       "      <td>['3', '4']</td>\n",
       "      <td>NaN</td>\n",
       "    </tr>\n",
       "    <tr>\n",
       "      <th>1</th>\n",
       "      <td>Adrift Camilla</td>\n",
       "      <td>Tier 3</td>\n",
       "      <td>Red</td>\n",
       "      <td>Tome</td>\n",
       "      <td>Flying</td>\n",
       "      <td>stars-5-Star</td>\n",
       "      <td>36</td>\n",
       "      <td>37</td>\n",
       "      <td>30</td>\n",
       "      <td>17</td>\n",
       "      <td>30</td>\n",
       "      <td>150</td>\n",
       "      <td>False</td>\n",
       "      <td>True</td>\n",
       "      <td>False</td>\n",
       "      <td>Fire Emblem Heroes</td>\n",
       "      <td>False</td>\n",
       "      <td>['5']</td>\n",
       "      <td>NaN</td>\n",
       "    </tr>\n",
       "    <tr>\n",
       "      <th>2</th>\n",
       "      <td>Adrift Corrin (F)</td>\n",
       "      <td>Tier 2</td>\n",
       "      <td>Green</td>\n",
       "      <td>Dragon</td>\n",
       "      <td>Infantry</td>\n",
       "      <td>stars-5-Star</td>\n",
       "      <td>41</td>\n",
       "      <td>31</td>\n",
       "      <td>37</td>\n",
       "      <td>32</td>\n",
       "      <td>27</td>\n",
       "      <td>168</td>\n",
       "      <td>False</td>\n",
       "      <td>True</td>\n",
       "      <td>False</td>\n",
       "      <td>Fire Emblem Fates</td>\n",
       "      <td>False</td>\n",
       "      <td>['5']</td>\n",
       "      <td>NaN</td>\n",
       "    </tr>\n",
       "    <tr>\n",
       "      <th>3</th>\n",
       "      <td>Adrift Corrin (M)</td>\n",
       "      <td>Tier 2</td>\n",
       "      <td>Blue</td>\n",
       "      <td>Dragon</td>\n",
       "      <td>Infantry</td>\n",
       "      <td>stars-5-Star</td>\n",
       "      <td>42</td>\n",
       "      <td>35</td>\n",
       "      <td>35</td>\n",
       "      <td>31</td>\n",
       "      <td>24</td>\n",
       "      <td>167</td>\n",
       "      <td>False</td>\n",
       "      <td>True</td>\n",
       "      <td>False</td>\n",
       "      <td>Fire Emblem Fates</td>\n",
       "      <td>False</td>\n",
       "      <td>['5']</td>\n",
       "      <td>NaN</td>\n",
       "    </tr>\n",
       "    <tr>\n",
       "      <th>4</th>\n",
       "      <td>Alfonse</td>\n",
       "      <td>Tier 4</td>\n",
       "      <td>Red</td>\n",
       "      <td>Sword</td>\n",
       "      <td>Infantry</td>\n",
       "      <td>stars-4_Star_Story</td>\n",
       "      <td>43</td>\n",
       "      <td>35</td>\n",
       "      <td>25</td>\n",
       "      <td>32</td>\n",
       "      <td>22</td>\n",
       "      <td>157</td>\n",
       "      <td>True</td>\n",
       "      <td>True</td>\n",
       "      <td>False</td>\n",
       "      <td>Fire Emblem Heroes</td>\n",
       "      <td>False</td>\n",
       "      <td>['4']</td>\n",
       "      <td>Story</td>\n",
       "    </tr>\n",
       "  </tbody>\n",
       "</table>\n",
       "</div>"
      ],
      "text/plain": [
       "                Name    Tier  Color  Weapon  MoveType            Rarities  HP  \\\n",
       "0               Abel  Tier 4   Blue   Lance   Cavalry           stars-3-4  39   \n",
       "1     Adrift Camilla  Tier 3    Red    Tome    Flying        stars-5-Star  36   \n",
       "2  Adrift Corrin (F)  Tier 2  Green  Dragon  Infantry        stars-5-Star  41   \n",
       "3  Adrift Corrin (M)  Tier 2   Blue  Dragon  Infantry        stars-5-Star  42   \n",
       "4            Alfonse  Tier 4    Red   Sword  Infantry  stars-4_Star_Story  43   \n",
       "\n",
       "   Atk  Spd  Def  Res  Total  Refines  Personal Weapon  Legendary/Mythic  \\\n",
       "0   33   32   25   25    154     True            False             False   \n",
       "1   37   30   17   30    150    False             True             False   \n",
       "2   31   37   32   27    168    False             True             False   \n",
       "3   35   35   31   24    167    False             True             False   \n",
       "4   35   25   32   22    157     True             True             False   \n",
       "\n",
       "                               Origin  Refresher       Stars Obtain  \n",
       "0  Fire Emblem: Mystery of the Emblem      False  ['3', '4']    NaN  \n",
       "1                  Fire Emblem Heroes      False       ['5']    NaN  \n",
       "2                   Fire Emblem Fates      False       ['5']    NaN  \n",
       "3                   Fire Emblem Fates      False       ['5']    NaN  \n",
       "4                  Fire Emblem Heroes      False       ['4']  Story  "
      ]
     },
     "execution_count": 119,
     "metadata": {},
     "output_type": "execute_result"
    }
   ],
   "source": [
    "heroes.head()"
   ]
  },
  {
   "cell_type": "markdown",
   "metadata": {},
   "source": [
    "## Feature Engineering\n",
    "\n",
    "Now that we have our data, let's make the most of it. It is an important skill to be able to garner as much \"useful\" information from a dataset as possible, as well as making it easy for your model to use."
   ]
  },
  {
   "cell_type": "markdown",
   "metadata": {},
   "source": [
    "### Seasonal Banners"
   ]
  },
  {
   "cell_type": "markdown",
   "metadata": {},
   "source": [
    "We notice that, looking at the characters, that there are a good number of seasonal banners that bring with them limitedly-available characters. For collectors, these would be banners that they would dump orbs on. But it's possible that some seasons are superior to others in terms of characters."
   ]
  },
  {
   "cell_type": "code",
   "execution_count": 127,
   "metadata": {},
   "outputs": [],
   "source": [
    "def seasonal_label(row):\n",
    "    if row[\"Name\"].startswith(\"Summer\"):\n",
    "        return \"Summer\"\n",
    "    elif row[\"Name\"].startswith(\"Spring\"):\n",
    "        return \"Spring\"\n",
    "    elif row[\"Name\"].startswith(\"Halloween\"):\n",
    "        return \"Halloween\"\n",
    "    elif row[\"Name\"].startswith(\"Winter\"):\n",
    "        return \"Winter\"\n",
    "    elif row[\"Name\"].startswith(\"Brave\"):\n",
    "        return \"Brave\"\n",
    "    elif row[\"Name\"].startswith(\"New Year\"):\n",
    "        return \"New Year\"\n",
    "    else:\n",
    "        return None"
   ]
  },
  {
   "cell_type": "code",
   "execution_count": 128,
   "metadata": {},
   "outputs": [],
   "source": [
    "heroes[\"Special Banner\"] = heroes.apply(lambda row: seasonal_label(row), axis=1)"
   ]
  },
  {
   "cell_type": "markdown",
   "metadata": {},
   "source": [
    "### Rarities\n",
    "\n",
    "We will also separate the information related to the rarity of a character into different columns"
   ]
  },
  {
   "cell_type": "code",
   "execution_count": 129,
   "metadata": {},
   "outputs": [],
   "source": [
    "rare3 = []\n",
    "rare4 = []\n",
    "rare5 = []\n",
    "for rare in heroes[\"Stars\"]:\n",
    "    if '3' in rare:\n",
    "        rare3.append(1)\n",
    "    else:\n",
    "        rare3.append(0)\n",
    "    if '4' in rare:\n",
    "        rare4.append(1)\n",
    "    else:\n",
    "        rare4.append(0)\n",
    "    if '5' in rare:\n",
    "        rare5.append(1)\n",
    "    else:\n",
    "        rare5.append(0)\n",
    "\n",
    "heroes[\"3-star\"] = rare3\n",
    "heroes[\"4-star\"] = rare4\n",
    "heroes[\"5-star\"] = rare5"
   ]
  },
  {
   "cell_type": "markdown",
   "metadata": {},
   "source": [
    "### One-Hot Encoding and Selecting Our Features"
   ]
  },
  {
   "cell_type": "markdown",
   "metadata": {},
   "source": [
    "An important thing to deal with before feeding your data into your model is to think about how the model takes in the data. To help with the model's prediction, we will take the categorical variables and go through a process called \"one-hot encoding\", which takes each value in a categorial variable and makes a new variable that indicates whether the character has that attribute or not. \n",
    "\n",
    "We can see that doing this will noticeably increase the number of variables for our model."
   ]
  },
  {
   "cell_type": "code",
   "execution_count": 245,
   "metadata": {},
   "outputs": [],
   "source": [
    "data = pd.get_dummies(heroes, prefix = [\"Obtain\", \"Legendary/Mythic\", \"Color\", \"Weapon\", \"Move\", \n",
    "                         \"Refresher\", \"Refines\", \"Special Banner\", \"Personal\"], \n",
    "               columns = [\"Obtain\", \"Legendary/Mythic\", \"Color\", \"Weapon\", \"MoveType\",\n",
    "                         \"Refresher\", \"Refines\", \"Special Banner\", \"Personal Weapon\"])\n",
    "\n",
    "#with pd.option_context('display.max_rows', 5, 'display.max_columns', 100):\n",
    "#    display(data)"
   ]
  },
  {
   "cell_type": "code",
   "execution_count": 232,
   "metadata": {},
   "outputs": [
    {
     "name": "stdout",
     "output_type": "stream",
     "text": [
      "Number of Features in Original Data Set 19\n",
      "Number of Features in Updated Data Set 49\n"
     ]
    }
   ],
   "source": [
    "print(\"Number of Features in Original Data Set\", len(pd.read_excel(\"hero_data.xlsx\").columns))\n",
    "print(\"Number of Features in Updated Data Set\", len(data.columns))"
   ]
  },
  {
   "cell_type": "markdown",
   "metadata": {},
   "source": [
    "For this next step, we will choose which variables to feed to our model. For the time being, we will choose to exclude features that are mostly redundant, as well as the origin of the characters."
   ]
  },
  {
   "cell_type": "code",
   "execution_count": 144,
   "metadata": {},
   "outputs": [],
   "source": [
    "data2 = data.drop([\"Origin\", \"Rarities\", \"Total\", \"Personal_False\", \"Refines_False\",\n",
    "                   \"Legendary/Mythic_False\", \"Stars\", \"Refresher_False\"], axis = 1)"
   ]
  },
  {
   "cell_type": "markdown",
   "metadata": {},
   "source": [
    "## Model Testing\n",
    "\n",
    "At this point, now that we have decided on our features, we will begin to train the model. We will begin by randomizing our data so that ordering by name does not confound the results of our model.\n",
    "\n",
    "Afterwards, we will split the data into two parts: training and testing data. We do a ~80/20 split."
   ]
  },
  {
   "cell_type": "code",
   "execution_count": 212,
   "metadata": {},
   "outputs": [],
   "source": [
    "totest = data2[data2[\"Tier\"].isnull()]"
   ]
  },
  {
   "cell_type": "code",
   "execution_count": 145,
   "metadata": {},
   "outputs": [],
   "source": [
    "totest = data2[data2[\"Tier\"].isnull()]\n",
    "data3 = data2[data2[\"Tier\"].notnull()].sample(frac=1)\n",
    "data3 = data3.set_index(\"Name\")"
   ]
  },
  {
   "cell_type": "code",
   "execution_count": 146,
   "metadata": {},
   "outputs": [
    {
     "data": {
      "text/plain": [
       "18"
      ]
     },
     "execution_count": 146,
     "metadata": {},
     "output_type": "execute_result"
    }
   ],
   "source": [
    "len(data3)\n",
    "len(totest)"
   ]
  },
  {
   "cell_type": "code",
   "execution_count": 147,
   "metadata": {},
   "outputs": [],
   "source": [
    "train = data3[:350]\n",
    "test = data3[350:]"
   ]
  },
  {
   "cell_type": "code",
   "execution_count": 148,
   "metadata": {},
   "outputs": [],
   "source": [
    "train_y = train[\"Tier\"]\n",
    "train_x = train.drop([\"Tier\"], axis = 1)\n",
    "test_y = test[\"Tier\"]\n",
    "test_x = test.drop([\"Tier\"], axis = 1)"
   ]
  },
  {
   "cell_type": "markdown",
   "metadata": {},
   "source": [
    "For the choice of our model, we have many options that we can go with. To begin our analysis, we will use the DecisionTreeClassifier model."
   ]
  },
  {
   "cell_type": "code",
   "execution_count": 149,
   "metadata": {},
   "outputs": [
    {
     "name": "stdout",
     "output_type": "stream",
     "text": [
      "Train Score: 0.7171428571428572\n",
      "Test Score: 0.4117647058823529\n"
     ]
    }
   ],
   "source": [
    "clf = DecisionTreeClassifier(max_depth=7)\n",
    "clf.fit(train_x, train_y)\n",
    "score = clf.score(test_x, test_y)\n",
    "print(\"Train Score:\", clf.score(train_x, train_y))\n",
    "print(\"Test Score:\", score)"
   ]
  },
  {
   "cell_type": "code",
   "execution_count": 246,
   "metadata": {},
   "outputs": [],
   "source": [
    "# allows one to see the impact each variable has on the model's prediction\n",
    "#for i in range(len(train_x.columns)):\n",
    "#    print(train_x.columns[i], clf.feature_importances_[i])"
   ]
  },
  {
   "cell_type": "code",
   "execution_count": 151,
   "metadata": {},
   "outputs": [],
   "source": [
    "def get_heatmap(model, features, label):\n",
    "    pred = {'y_Predicted': model.predict(features),\n",
    "        'y_Actual': label.values\n",
    "        }\n",
    "    pred_df = pd.DataFrame(pred, columns=['y_Actual','y_Predicted'])\n",
    "    confusion_matrix = pd.crosstab(pred_df['y_Actual'], pred_df['y_Predicted'], \n",
    "                                rownames=['Actual'], colnames=['Predicted'], margins = True)\n",
    "\n",
    "    sns.heatmap(confusion_matrix, annot=True, fmt='g')\n",
    "    plt.title(\"Training Data Heatmap\")\n",
    "    plt.show()"
   ]
  },
  {
   "cell_type": "code",
   "execution_count": 152,
   "metadata": {},
   "outputs": [
    {
     "data": {
      "image/png": "[encoded data removed]",
      "text/plain": [
       "<Figure size 432x288 with 2 Axes>"
      ]
     },
     "metadata": {
      "needs_background": "light"
     },
     "output_type": "display_data"
    }
   ],
   "source": [
    "get_heatmap(clf, train_x, train_y)"
   ]
  },
  {
   "cell_type": "code",
   "execution_count": 153,
   "metadata": {},
   "outputs": [
    {
     "data": {
      "image/png": "[encoded data removed]",
      "text/plain": [
       "<Figure size 432x288 with 2 Axes>"
      ]
     },
     "metadata": {
      "needs_background": "light"
     },
     "output_type": "display_data"
    }
   ],
   "source": [
    "get_heatmap(clf, test_x, test_y)"
   ]
  },
  {
   "cell_type": "markdown",
   "metadata": {},
   "source": [
    "  "
   ]
  },
  {
   "cell_type": "markdown",
   "metadata": {},
   "source": [
    "## What Could We Do Better?\n",
    "\n",
    "From the initial results above, we can see that our model does a decent job at predicting the tier that a character will be in. However, there are still ways that we could improve our model's capacity to predict how good a character is deemed.\n",
    "\n",
    "(Granted, Tier lists are somewhat subjective. Thus, it is possible that what a model believes to be a \"Tier 1\" character doesn't align with the tier-list maker's views. Also, as of now, there is information that may be lacking)"
   ]
  },
  {
   "cell_type": "markdown",
   "metadata": {},
   "source": [
    "### Rescaling Data\n",
    "\n",
    "One avenue to look at is with the way our data is fed into the model. Some models are sensitive to feature scaling. To avoid this issue, there are two common ways to adjust the quantitative values of our data."
   ]
  },
  {
   "cell_type": "markdown",
   "metadata": {},
   "source": [
    "#### Normalization"
   ]
  },
  {
   "cell_type": "code",
   "execution_count": 154,
   "metadata": {},
   "outputs": [],
   "source": [
    "from sklearn import preprocessing"
   ]
  },
  {
   "cell_type": "code",
   "execution_count": 156,
   "metadata": {},
   "outputs": [
    {
     "name": "stdout",
     "output_type": "stream",
     "text": [
      "Train Score: 0.7657142857142857\n",
      "Test Score: 0.4215686274509804\n"
     ]
    }
   ],
   "source": [
    "norm = data3.copy()\n",
    "scale_cols = [\"HP\", \"Atk\", \"Spd\", \"Def\", \"Res\"]\n",
    "normed = preprocessing.normalize(norm[scale_cols])\n",
    "\n",
    "norm[scale_cols] = normed\n",
    "\n",
    "ntrain = norm[:350]\n",
    "ntest = norm[350:]\n",
    "ntrain_y = ntrain[\"Tier\"]\n",
    "ntrain_x = ntrain.drop([\"Tier\"], axis = 1)\n",
    "ntest_y = ntest[\"Tier\"]\n",
    "ntest_x = ntest.drop([\"Tier\"], axis = 1)\n",
    "\n",
    "\n",
    "nclf = DecisionTreeClassifier(max_depth=7)\n",
    "nclf.fit(ntrain_x, ntrain_y)\n",
    "nscore = nclf.score(ntest_x, ntest_y)\n",
    "print(\"Train Score:\", nclf.score(ntrain_x, ntrain_y))\n",
    "print(\"Test Score:\", nscore)"
   ]
  },
  {
   "cell_type": "code",
   "execution_count": 157,
   "metadata": {},
   "outputs": [
    {
     "name": "stdout",
     "output_type": "stream",
     "text": [
      "Train Score: 0.5114285714285715\n",
      "Test Score: 0.4803921568627451\n"
     ]
    }
   ],
   "source": [
    "from sklearn.neighbors import KNeighborsClassifier\n",
    "\n",
    "neigh = KNeighborsClassifier(n_neighbors=15)\n",
    "neigh.fit(ntrain_x, ntrain_y)\n",
    "kscore = neigh.score(ntest_x, ntest_y)\n",
    "print(\"Train Score:\", neigh.score(ntrain_x, ntrain_y))\n",
    "print(\"Test Score:\", kscore)"
   ]
  },
  {
   "cell_type": "markdown",
   "metadata": {},
   "source": [
    "#### Standardization"
   ]
  },
  {
   "cell_type": "code",
   "execution_count": 158,
   "metadata": {},
   "outputs": [
    {
     "name": "stdout",
     "output_type": "stream",
     "text": [
      "Train Score: 0.7171428571428572\n",
      "Test Score: 0.4215686274509804\n"
     ]
    },
    {
     "name": "stderr",
     "output_type": "stream",
     "text": [
      "/Users/tunggal/anaconda3/lib/python3.7/site-packages/ipykernel_launcher.py:3: DataConversionWarning: Data with input dtype int64 were all converted to float64 by the scale function.\n",
      "  This is separate from the ipykernel package so we can avoid doing imports until\n"
     ]
    }
   ],
   "source": [
    "stan = data3.copy()\n",
    "scale_cols = [\"HP\", \"Atk\", \"Spd\", \"Def\", \"Res\"]\n",
    "staned = preprocessing.scale(stan[scale_cols])\n",
    "\n",
    "stan[scale_cols] = staned\n",
    "\n",
    "strain = stan[:350]\n",
    "stest = stan[350:]\n",
    "strain_y = strain[\"Tier\"]\n",
    "strain_x = strain.drop([\"Tier\"], axis = 1)\n",
    "stest_y = stest[\"Tier\"]\n",
    "stest_x = stest.drop([\"Tier\"], axis = 1)\n",
    "\n",
    "\n",
    "sclf = DecisionTreeClassifier(max_depth=7)\n",
    "sclf.fit(strain_x, strain_y)\n",
    "sscore = sclf.score(stest_x, stest_y)\n",
    "print(\"Train Score:\", sclf.score(strain_x, strain_y))\n",
    "print(\"Test Score:\", sscore)"
   ]
  },
  {
   "cell_type": "code",
   "execution_count": 159,
   "metadata": {},
   "outputs": [],
   "source": [
    "from sklearn.gaussian_process import GaussianProcessClassifier\n",
    "from sklearn.gaussian_process.kernels import RBF"
   ]
  },
  {
   "cell_type": "code",
   "execution_count": 160,
   "metadata": {},
   "outputs": [
    {
     "name": "stdout",
     "output_type": "stream",
     "text": [
      "Train Score: 0.38857142857142857\n",
      "Test Score: 0.4019607843137255\n"
     ]
    }
   ],
   "source": [
    "kernel = 1.0 * RBF(1.0)\n",
    "gpc = GaussianProcessClassifier(kernel=kernel, random_state=0).fit(strain_x, strain_y)\n",
    "gscore = gpc.score(stest_x, stest_y)\n",
    "print(\"Train Score:\", gpc.score(strain_x, strain_y))\n",
    "print(\"Test Score:\", gscore)"
   ]
  },
  {
   "cell_type": "code",
   "execution_count": 161,
   "metadata": {},
   "outputs": [
    {
     "name": "stdout",
     "output_type": "stream",
     "text": [
      "Train Score: 0.2571428571428571\n",
      "Test Score: 0.17647058823529413\n"
     ]
    }
   ],
   "source": [
    "from sklearn.naive_bayes import GaussianNB\n",
    "gauss = GaussianNB()\n",
    "gauss.fit(strain_x, strain_y)\n",
    "gascore = gauss.score(stest_x, stest_y)\n",
    "print(\"Train Score:\", gauss.score(strain_x, strain_y))\n",
    "print(\"Test Score:\", gascore)"
   ]
  },
  {
   "cell_type": "markdown",
   "metadata": {},
   "source": [
    "### Stochastic Gradient Descent"
   ]
  },
  {
   "cell_type": "code",
   "execution_count": 162,
   "metadata": {},
   "outputs": [
    {
     "name": "stderr",
     "output_type": "stream",
     "text": [
      "/Users/tunggal/anaconda3/lib/python3.7/site-packages/sklearn/linear_model/stochastic_gradient.py:183: FutureWarning: max_iter and tol parameters have been added in SGDClassifier in 0.19. If max_iter is set but tol is left unset, the default value for tol in 0.19 and 0.20 will be None (which is equivalent to -infinity, so it has no effect) but will change in 0.21 to 1e-3. Specify tol to silence this warning.\n",
      "  FutureWarning)\n"
     ]
    },
    {
     "name": "stdout",
     "output_type": "stream",
     "text": [
      "Train Score: 0.44285714285714284\n",
      "Test Score: 0.2549019607843137\n"
     ]
    }
   ],
   "source": [
    "from sklearn.linear_model import SGDClassifier\n",
    "\n",
    "sgdclf = SGDClassifier(loss=\"log\", penalty=\"elasticnet\", max_iter=500)\n",
    "sgdclf.fit(train_x, train_y)\n",
    "sgdscore = sgdclf.score(test_x, test_y)\n",
    "print(\"Train Score:\", sgdclf.score(train_x, train_y))\n",
    "print(\"Test Score:\", sgdscore)"
   ]
  },
  {
   "cell_type": "code",
   "execution_count": 163,
   "metadata": {},
   "outputs": [
    {
     "name": "stderr",
     "output_type": "stream",
     "text": [
      "/Users/tunggal/anaconda3/lib/python3.7/site-packages/sklearn/linear_model/stochastic_gradient.py:183: FutureWarning: max_iter and tol parameters have been added in SGDClassifier in 0.19. If max_iter is set but tol is left unset, the default value for tol in 0.19 and 0.20 will be None (which is equivalent to -infinity, so it has no effect) but will change in 0.21 to 1e-3. Specify tol to silence this warning.\n",
      "  FutureWarning)\n"
     ]
    },
    {
     "name": "stdout",
     "output_type": "stream",
     "text": [
      "Train Score: 0.6057142857142858\n",
      "Test Score: 0.5490196078431373\n"
     ]
    }
   ],
   "source": [
    "n_sgdclf = SGDClassifier(loss=\"log\", penalty=\"elasticnet\", max_iter=500)\n",
    "n_sgdclf.fit(ntrain_x, ntrain_y)\n",
    "n_sgdscore = n_sgdclf.score(ntest_x, ntest_y)\n",
    "print(\"Train Score:\", n_sgdclf.score(ntrain_x, ntrain_y))\n",
    "print(\"Test Score:\", n_sgdscore)"
   ]
  },
  {
   "cell_type": "code",
   "execution_count": 164,
   "metadata": {},
   "outputs": [
    {
     "name": "stderr",
     "output_type": "stream",
     "text": [
      "/Users/tunggal/anaconda3/lib/python3.7/site-packages/sklearn/linear_model/stochastic_gradient.py:183: FutureWarning: max_iter and tol parameters have been added in SGDClassifier in 0.19. If max_iter is set but tol is left unset, the default value for tol in 0.19 and 0.20 will be None (which is equivalent to -infinity, so it has no effect) but will change in 0.21 to 1e-3. Specify tol to silence this warning.\n",
      "  FutureWarning)\n"
     ]
    },
    {
     "name": "stdout",
     "output_type": "stream",
     "text": [
      "Train Score: 0.6142857142857143\n",
      "Test Score: 0.5784313725490197\n"
     ]
    }
   ],
   "source": [
    "s_sgdclf = SGDClassifier(loss=\"log\", penalty=\"elasticnet\", max_iter=500)\n",
    "s_sgdclf.fit(strain_x, strain_y)\n",
    "s_sgdscore = s_sgdclf.score(stest_x, stest_y)\n",
    "print(\"Train Score:\", s_sgdclf.score(strain_x, strain_y))\n",
    "print(\"Test Score:\", s_sgdscore)"
   ]
  },
  {
   "cell_type": "code",
   "execution_count": 165,
   "metadata": {},
   "outputs": [
    {
     "data": {
      "image/png": "[encoded data removed]",
      "text/plain": [
       "<Figure size 432x288 with 2 Axes>"
      ]
     },
     "metadata": {
      "needs_background": "light"
     },
     "output_type": "display_data"
    }
   ],
   "source": [
    "get_heatmap(sgdclf, test_x, test_y)"
   ]
  },
  {
   "cell_type": "code",
   "execution_count": 166,
   "metadata": {},
   "outputs": [
    {
     "data": {
      "image/png": "[encoded data removed]",
      "text/plain": [
       "<Figure size 432x288 with 2 Axes>"
      ]
     },
     "metadata": {
      "needs_background": "light"
     },
     "output_type": "display_data"
    }
   ],
   "source": [
    "get_heatmap(n_sgdclf, ntest_x, ntest_y)"
   ]
  },
  {
   "cell_type": "code",
   "execution_count": 167,
   "metadata": {},
   "outputs": [
    {
     "data": {
      "image/png": "[encoded data removed]",
      "text/plain": [
       "<Figure size 432x288 with 2 Axes>"
      ]
     },
     "metadata": {
      "needs_background": "light"
     },
     "output_type": "display_data"
    }
   ],
   "source": [
    "get_heatmap(s_sgdclf, stest_x, stest_y)"
   ]
  },
  {
   "cell_type": "markdown",
   "metadata": {},
   "source": [
    "### Support Vector Machine (SVM)"
   ]
  },
  {
   "cell_type": "code",
   "execution_count": 250,
   "metadata": {},
   "outputs": [
    {
     "name": "stdout",
     "output_type": "stream",
     "text": [
      "Train Score: 0.7857142857142857\n",
      "Test Score: 0.5\n"
     ]
    }
   ],
   "source": [
    "from sklearn import svm\n",
    "nsvma = svm.SVC(C = 1.7, gamma='scale', kernel = \"poly\", degree = 3)\n",
    "nsvma.fit(ntrain_x, ntrain_y)\n",
    "nsvm_score = nsvma.score(ntest_x, ntest_y)\n",
    "print(\"Train Score:\", nsvma.score(ntrain_x, ntrain_y))\n",
    "print(\"Test Score:\", nsvm_score)"
   ]
  },
  {
   "cell_type": "code",
   "execution_count": 244,
   "metadata": {},
   "outputs": [
    {
     "name": "stdout",
     "output_type": "stream",
     "text": [
      "Train Score: 0.8628571428571429\n",
      "Test Score: 0.4411764705882353\n"
     ]
    }
   ],
   "source": [
    "svma = svm.SVC(C = 1.7, gamma='scale', kernel = \"poly\", degree = 3)\n",
    "svma.fit(strain_x, strain_y)\n",
    "svm_score = svma.score(stest_x, stest_y)\n",
    "print(\"Train Score:\", svma.score(strain_x, strain_y))\n",
    "print(\"Test Score:\", svm_score)"
   ]
  },
  {
   "cell_type": "code",
   "execution_count": 175,
   "metadata": {},
   "outputs": [
    {
     "name": "stdout",
     "output_type": "stream",
     "text": [
      "Train Score: 0.6342857142857142\n",
      "Test Score: 0.5784313725490197\n"
     ]
    }
   ],
   "source": [
    "lsvma = svm.LinearSVC()\n",
    "lsvma.fit(strain_x, strain_y)\n",
    "lsvm_score = lsvma.score(stest_x, stest_y)\n",
    "print(\"Train Score:\", lsvma.score(strain_x, strain_y))\n",
    "print(\"Test Score:\", lsvm_score)"
   ]
  },
  {
   "cell_type": "code",
   "execution_count": 176,
   "metadata": {},
   "outputs": [
    {
     "data": {
      "image/png": "[encoded data removed]",
      "text/plain": [
       "<Figure size 432x288 with 2 Axes>"
      ]
     },
     "metadata": {
      "needs_background": "light"
     },
     "output_type": "display_data"
    }
   ],
   "source": [
    "get_heatmap(svma, stest_x, stest_y)"
   ]
  },
  {
   "cell_type": "code",
   "execution_count": 177,
   "metadata": {},
   "outputs": [
    {
     "data": {
      "image/png": "[encoded data removed]",
      "text/plain": [
       "<Figure size 432x288 with 2 Axes>"
      ]
     },
     "metadata": {
      "needs_background": "light"
     },
     "output_type": "display_data"
    }
   ],
   "source": [
    "get_heatmap(svma, strain_x, strain_y)"
   ]
  },
  {
   "cell_type": "markdown",
   "metadata": {},
   "source": [
    "## Prediction Time!"
   ]
  },
  {
   "cell_type": "markdown",
   "metadata": {},
   "source": [
    "Now is the moment of truth - applying our model to predict where characters will fall on the tier list. There are currently 18 characters in the game that have not been officially tiered on Gamepress."
   ]
  },
  {
   "cell_type": "code",
   "execution_count": 215,
   "metadata": {},
   "outputs": [],
   "source": [
    "preds = pd.DataFrame()\n",
    "preds[\"Name\"] = totest[\"Name\"]\n",
    "preds.reset_index(drop = \"True\")"
   ]
  },
  {
   "cell_type": "code",
   "execution_count": 224,
   "metadata": {},
   "outputs": [
    {
     "data": {
      "text/plain": [
       "array(['Tier 1', 'Tier 2', 'Tier 2', 'Tier 1', 'Tier 1', 'Tier 2',\n",
       "       'Tier 2', 'Tier 1', 'Tier 2', 'Tier 1', 'Tier 2', 'Tier 1',\n",
       "       'Tier 1', 'Tier 2', 'Tier 1', 'Tier 2', 'Tier 2', 'Tier 1'],\n",
       "      dtype=object)"
      ]
     },
     "execution_count": 224,
     "metadata": {},
     "output_type": "execute_result"
    }
   ],
   "source": [
    "totesta = totest.set_index(\"Name\")\n",
    "totesta = totesta.drop([\"Tier\"], axis = 1)\n",
    "lsvma.predict(totesta)"
   ]
  },
  {
   "cell_type": "code",
   "execution_count": 251,
   "metadata": {},
   "outputs": [
    {
     "data": {
      "text/plain": [
       "array(['Tier 1', 'Tier 4', 'Tier 2', 'Tier 2', 'Tier 5', 'Tier 2',\n",
       "       'Tier 2', 'Tier 2', 'Tier 2', 'Tier 1', 'Tier 2', 'Tier 2',\n",
       "       'Tier 2', 'Tier 2', 'Tier 1', 'Tier 2', 'Tier 2', 'Tier 5'],\n",
       "      dtype=object)"
      ]
     },
     "execution_count": 251,
     "metadata": {},
     "output_type": "execute_result"
    }
   ],
   "source": [
    "nsvma.predict(totesta)"
   ]
  },
  {
   "cell_type": "code",
   "execution_count": 252,
   "metadata": {},
   "outputs": [
    {
     "data": {
      "text/plain": [
       "array(['Tier 1', 'Tier 1', 'Tier 1', 'Tier 1', 'Tier 1', 'Tier 1',\n",
       "       'Tier 1', 'Tier 1', 'Tier 1', 'Tier 1', 'Tier 1', 'Tier 1',\n",
       "       'Tier 1', 'Tier 1', 'Tier 1', 'Tier 1', 'Tier 1', 'Tier 1'],\n",
       "      dtype=object)"
      ]
     },
     "execution_count": 252,
     "metadata": {},
     "output_type": "execute_result"
    }
   ],
   "source": [
    "svma.predict(totesta)"
   ]
  },
  {
   "cell_type": "code",
   "execution_count": 225,
   "metadata": {},
   "outputs": [],
   "source": [
    "preds[\"Predictions\"] = lsvma.predict(totesta)"
   ]
  },
  {
   "cell_type": "code",
   "execution_count": 226,
   "metadata": {},
   "outputs": [
    {
     "data": {
      "text/html": [
       "<div>\n",
       "<style scoped>\n",
       "    .dataframe tbody tr th:only-of-type {\n",
       "        vertical-align: middle;\n",
       "    }\n",
       "\n",
       "    .dataframe tbody tr th {\n",
       "        vertical-align: top;\n",
       "    }\n",
       "\n",
       "    .dataframe thead th {\n",
       "        text-align: right;\n",
       "    }\n",
       "</style>\n",
       "<table border=\"1\" class=\"dataframe\">\n",
       "  <thead>\n",
       "    <tr style=\"text-align: right;\">\n",
       "      <th></th>\n",
       "      <th>Name</th>\n",
       "      <th>Predictions</th>\n",
       "    </tr>\n",
       "  </thead>\n",
       "  <tbody>\n",
       "    <tr>\n",
       "      <th>102</th>\n",
       "      <td>Eyvel</td>\n",
       "      <td>Tier 1</td>\n",
       "    </tr>\n",
       "    <tr>\n",
       "      <th>193</th>\n",
       "      <td>Kempf</td>\n",
       "      <td>Tier 2</td>\n",
       "    </tr>\n",
       "    <tr>\n",
       "      <th>208</th>\n",
       "      <td>Legendary Celica</td>\n",
       "      <td>Tier 2</td>\n",
       "    </tr>\n",
       "    <tr>\n",
       "      <th>249</th>\n",
       "      <td>Mareeta</td>\n",
       "      <td>Tier 1</td>\n",
       "    </tr>\n",
       "    <tr>\n",
       "      <th>278</th>\n",
       "      <td>New Year Alfonse</td>\n",
       "      <td>Tier 1</td>\n",
       "    </tr>\n",
       "    <tr>\n",
       "      <th>279</th>\n",
       "      <td>New Year Anna</td>\n",
       "      <td>Tier 2</td>\n",
       "    </tr>\n",
       "    <tr>\n",
       "      <th>283</th>\n",
       "      <td>New Year Eir</td>\n",
       "      <td>Tier 2</td>\n",
       "    </tr>\n",
       "    <tr>\n",
       "      <th>289</th>\n",
       "      <td>New Year Lethe</td>\n",
       "      <td>Tier 1</td>\n",
       "    </tr>\n",
       "    <tr>\n",
       "      <th>290</th>\n",
       "      <td>New Year Selkie</td>\n",
       "      <td>Tier 2</td>\n",
       "    </tr>\n",
       "    <tr>\n",
       "      <th>309</th>\n",
       "      <td>Osian</td>\n",
       "      <td>Tier 1</td>\n",
       "    </tr>\n",
       "    <tr>\n",
       "      <th>313</th>\n",
       "      <td>Peony</td>\n",
       "      <td>Tier 2</td>\n",
       "    </tr>\n",
       "    <tr>\n",
       "      <th>428</th>\n",
       "      <td>Tanya</td>\n",
       "      <td>Tier 1</td>\n",
       "    </tr>\n",
       "    <tr>\n",
       "      <th>432</th>\n",
       "      <td>Thrasir</td>\n",
       "      <td>Tier 1</td>\n",
       "    </tr>\n",
       "    <tr>\n",
       "      <th>455</th>\n",
       "      <td>Winter Jaffar</td>\n",
       "      <td>Tier 2</td>\n",
       "    </tr>\n",
       "    <tr>\n",
       "      <th>457</th>\n",
       "      <td>Winter Marth</td>\n",
       "      <td>Tier 1</td>\n",
       "    </tr>\n",
       "    <tr>\n",
       "      <th>458</th>\n",
       "      <td>Winter Nino</td>\n",
       "      <td>Tier 2</td>\n",
       "    </tr>\n",
       "    <tr>\n",
       "      <th>460</th>\n",
       "      <td>Winter Sothis</td>\n",
       "      <td>Tier 2</td>\n",
       "    </tr>\n",
       "    <tr>\n",
       "      <th>462</th>\n",
       "      <td>Winter Zephiel</td>\n",
       "      <td>Tier 1</td>\n",
       "    </tr>\n",
       "  </tbody>\n",
       "</table>\n",
       "</div>"
      ],
      "text/plain": [
       "                 Name Predictions\n",
       "102             Eyvel      Tier 1\n",
       "193             Kempf      Tier 2\n",
       "208  Legendary Celica      Tier 2\n",
       "249           Mareeta      Tier 1\n",
       "278  New Year Alfonse      Tier 1\n",
       "279     New Year Anna      Tier 2\n",
       "283      New Year Eir      Tier 2\n",
       "289    New Year Lethe      Tier 1\n",
       "290   New Year Selkie      Tier 2\n",
       "309             Osian      Tier 1\n",
       "313             Peony      Tier 2\n",
       "428             Tanya      Tier 1\n",
       "432           Thrasir      Tier 1\n",
       "455     Winter Jaffar      Tier 2\n",
       "457      Winter Marth      Tier 1\n",
       "458       Winter Nino      Tier 2\n",
       "460     Winter Sothis      Tier 2\n",
       "462    Winter Zephiel      Tier 1"
      ]
     },
     "execution_count": 226,
     "metadata": {},
     "output_type": "execute_result"
    }
   ],
   "source": [
    "preds"
   ]
  },
  {
   "cell_type": "markdown",
   "metadata": {},
   "source": [
    "There we have it! Our first set of predictions for our model. Granted, there are still things that we can improve and tinker with for the model, as well as information that can be scraped to give our model more to work with. We will have to wait for some time before we can see how right (or wrong) our model is.\n",
    "\n",
    "With the data that we scraped and the model that we have created, we can also look to answer other common questions related to rolling characters, such as:\n",
    "\n",
    "* What is the probability of rolling a particular banner character?\n",
    "* Is it always worth finishing a roll when you get a five-star?\n",
    "* I don't have that many orbs. Which banner should I burn my orbs on?"
   ]
  },
  {
   "cell_type": "markdown",
   "metadata": {},
   "source": [
    "We will save our predictions below to compare with the actual tier listing when they come out on gamepress."
   ]
  },
  {
   "cell_type": "code",
   "execution_count": 258,
   "metadata": {},
   "outputs": [],
   "source": [
    "# save predictions \n",
    "string = \"predictions_\" + str(datetime.date(datetime.now()))\n",
    "preds.to_csv(string, encoding='utf-8', index=False)"
   ]
  }
 ],
 "metadata": {
  "kernelspec": {
   "display_name": "Python 3",
   "language": "python",
   "name": "python3"
  },
  "language_info": {
   "codemirror_mode": {
    "name": "ipython",
    "version": 3
   },
   "file_extension": ".py",
   "mimetype": "text/x-python",
   "name": "python",
   "nbconvert_exporter": "python",
   "pygments_lexer": "ipython3",
   "version": "3.7.3"
  },
  "toc": {
   "base_numbering": 1,
   "nav_menu": {},
   "number_sections": true,
   "sideBar": true,
   "skip_h1_title": true,
   "title_cell": "Table of Contents",
   "title_sidebar": "Contents",
   "toc_cell": false,
   "toc_position": {
    "height": "calc(100% - 180px)",
    "left": "10px",
    "top": "150px",
    "width": "256px"
   },
   "toc_section_display": true,
   "toc_window_display": true
  },
  "varInspector": {
   "cols": {
    "lenName": 16,
    "lenType": 16,
    "lenVar": 40
   },
   "kernels_config": {
    "python": {
     "delete_cmd_postfix": "",
     "delete_cmd_prefix": "del ",
     "library": "var_list.py",
     "varRefreshCmd": "print(var_dic_list())"
    },
    "r": {
     "delete_cmd_postfix": ") ",
     "delete_cmd_prefix": "rm(",
     "library": "var_list.r",
     "varRefreshCmd": "cat(var_dic_list()) "
    }
   },
   "types_to_exclude": [
    "module",
    "function",
    "builtin_function_or_method",
    "instance",
    "_Feature"
   ],
   "window_display": false
  }
 },
 "nbformat": 4,
 "nbformat_minor": 2
}
